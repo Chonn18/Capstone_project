{
 "cells": [
  {
   "cell_type": "markdown",
   "id": "60ee4d41",
   "metadata": {},
   "source": [
    "MWFormer/\n",
    "├── configs/                   # Thư mục chứa các tệp cấu hình cho huấn luyện và đánh giá\n",
    "├── figs/                      # Thư mục chứa hình ảnh minh họa và kết quả\n",
    "├── model/                     # Thư mục chứa mã nguồn mô hình\n",
    "├── pytorch_metric_learning/   # Thư viện hỗ trợ học sâu với metric learning\n",
    "├── utils/                     # Thư mục chứa các hàm tiện ích\n",
    "├── main_finetune.py           # Tệp chính để tinh chỉnh mô hình\n",
    "├── main_train.py              # Tệp chính để huấn luyện mô hình\n",
    "├── main_train_style.py        # Tệp huấn luyện với phong cách đặc biệt\n",
    "├── perceptual.py              # Đo lường độ tương đồng cảm nhận\n",
    "├── test.py                    # Tệp kiểm tra mô hình\n",
    "├── train_data_functions.py    # Hàm xử lý dữ liệu huấn luyện\n",
    "├── utils_network.py           # Các hàm tiện ích cho mạng nơ-ron\n",
    "├── utils_val.py               # Các hàm tiện ích cho đánh giá\n",
    "└── val_data_functions.py      # Hàm xử lý dữ liệu đánh giá\n"
   ]
  },
  {
   "cell_type": "code",
   "execution_count": 2,
   "id": "8632e868",
   "metadata": {},
   "outputs": [
    {
     "name": "stdout",
     "output_type": "stream",
     "text": [
      "ID_0002_g4\n"
     ]
    }
   ],
   "source": [
    "imgname = 'input/ID_0002_g4.jpg'\n",
    "filename = imgname.split('/')[-1]  # Tách chuỗi tại dấu '/' và lấy phần cuối cùng\n",
    "name_without_extension = filename.split('.')[0]  # Lấy tên mà không có phần mở rộng\n",
    "print(name_without_extension)\n"
   ]
  }
 ],
 "metadata": {
  "kernelspec": {
   "display_name": "capstone",
   "language": "python",
   "name": "python3"
  },
  "language_info": {
   "codemirror_mode": {
    "name": "ipython",
    "version": 3
   },
   "file_extension": ".py",
   "mimetype": "text/x-python",
   "name": "python",
   "nbconvert_exporter": "python",
   "pygments_lexer": "ipython3",
   "version": "3.10.12"
  }
 },
 "nbformat": 4,
 "nbformat_minor": 5
}
