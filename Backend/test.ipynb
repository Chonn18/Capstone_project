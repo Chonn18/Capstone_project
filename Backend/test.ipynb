{
 "cells": [
  {
   "cell_type": "code",
   "execution_count": null,
   "id": "838c5fbe",
   "metadata": {},
   "outputs": [
    {
     "name": "stdout",
     "output_type": "stream",
     "text": [
      "Seed:\t19\n",
      "cuda\n",
      "Start Val\n"
     ]
    },
    {
     "name": "stderr",
     "output_type": "stream",
     "text": [
      "100%|██████████| 16/16 [00:02<00:00,  5.65it/s]"
     ]
    },
    {
     "name": "stdout",
     "output_type": "stream",
     "text": [
      "Test1: \n",
      "val_psnr: 36.27, val_ssim: 0.9256\n"
     ]
    },
    {
     "name": "stderr",
     "output_type": "stream",
     "text": [
      "\n"
     ]
    }
   ],
   "source": [
    "from rundenoise import run_denoise_info\n",
    "\n",
    "#test 1 \n",
    "val_batch_size=1\n",
    "seed=19\n",
    "restore_from_stylefilter='/home/duongnhan/Chon/MWFormer/ckpt/lan4/finetune/finetune3/style_best_all'\n",
    "restore_from_backbone='/home/duongnhan/Chon/MWFormer/ckpt/lan4/finetune/finetune3/finetune4_3190000.pth'\n",
    "val_data_dir='/home/duongnhan/Chon/data/test/test_11/'\n",
    "val_filename='CT.txt'\n",
    "save_path = '/home/duongnhan/Chon/data/result_test/test_11'\n",
    "\n",
    "val_psnr, val_ssim = run_denoise_info(val_batch_size, seed, restore_from_stylefilter, restore_from_backbone, val_data_dir, val_filename, save_path)\n",
    "print(\"Test1: \")\n",
    "print('val_psnr: {0:.2f}, val_ssim: {1:.4f}'.format(val_psnr, val_ssim))"
   ]
  },
  {
   "cell_type": "markdown",
   "id": "330c259c",
   "metadata": {},
   "source": [
    "## Test 2, 2 nhieu tren 1 anh"
   ]
  },
  {
   "cell_type": "code",
   "execution_count": null,
   "id": "99399f8b",
   "metadata": {},
   "outputs": [
    {
     "name": "stdout",
     "output_type": "stream",
     "text": [
      "Seed:\t19\n",
      "cuda\n"
     ]
    },
    {
     "name": "stdout",
     "output_type": "stream",
     "text": [
      "Start Val\n"
     ]
    },
    {
     "name": "stderr",
     "output_type": "stream",
     "text": [
      "100%|██████████| 24/24 [00:04<00:00,  5.76it/s]"
     ]
    },
    {
     "name": "stdout",
     "output_type": "stream",
     "text": [
      "Test1: \n",
      "val_psnr: 24.10, val_ssim: 0.4499\n"
     ]
    },
    {
     "name": "stderr",
     "output_type": "stream",
     "text": [
      "\n"
     ]
    }
   ],
   "source": [
    "#test 2 \n",
    "val_batch_size=1\n",
    "seed=19\n",
    "restore_from_stylefilter='/home/duongnhan/Chon/MWFormer/ckpt/lan4/finetune/finetune3/style_best_all'\n",
    "restore_from_backbone='/home/duongnhan/Chon/MWFormer/ckpt/lan4/finetune/finetune3/finetune4_3190000.pth'\n",
    "val_data_dir='/home/duongnhan/Chon/data/test/test_2/'\n",
    "val_filename='CT.txt'\n",
    "save_path = '/home/duongnhan/Chon/data/result_test/test_2/lan1'\n",
    "\n",
    "val_psnr, val_ssim = run_denoise_info(val_batch_size, seed, restore_from_stylefilter, restore_from_backbone, val_data_dir, val_filename, save_path)\n",
    "print(\"Test1: \")\n",
    "print('val_psnr: {0:.2f}, val_ssim: {1:.4f}'.format(val_psnr, val_ssim))"
   ]
  },
  {
   "cell_type": "code",
   "execution_count": null,
   "id": "9e5aca20",
   "metadata": {},
   "outputs": [
    {
     "name": "stdout",
     "output_type": "stream",
     "text": [
      "Seed:\t19\n",
      "cuda\n"
     ]
    },
    {
     "name": "stdout",
     "output_type": "stream",
     "text": [
      "Start Val\n"
     ]
    },
    {
     "name": "stderr",
     "output_type": "stream",
     "text": [
      "100%|██████████| 24/24 [00:04<00:00,  5.74it/s]"
     ]
    },
    {
     "name": "stdout",
     "output_type": "stream",
     "text": [
      "Test2 lan2 : \n",
      "val_psnr: 29.44, val_ssim: 0.7634\n"
     ]
    },
    {
     "name": "stderr",
     "output_type": "stream",
     "text": [
      "\n"
     ]
    }
   ],
   "source": [
    "#test 2 \n",
    "val_batch_size=1\n",
    "seed=19\n",
    "restore_from_stylefilter='/home/duongnhan/Chon/MWFormer/ckpt/lan4/finetune/finetune3/style_best_all'\n",
    "restore_from_backbone='/home/duongnhan/Chon/MWFormer/ckpt/lan4/finetune/finetune3/finetune4_3190000.pth'\n",
    "val_data_dir='/home/duongnhan/Chon/data/result_test/test_2/lan1/'\n",
    "val_filename='CT.txt'\n",
    "save_path = '/home/duongnhan/Chon/data/result_test/test_2/lan2'\n",
    "\n",
    "val_psnr, val_ssim = run_denoise_info(val_batch_size, seed, restore_from_stylefilter, restore_from_backbone, val_data_dir, val_filename, save_path)\n",
    "print(\"Test2 lan2 : \")\n",
    "print('val_psnr: {0:.2f}, val_ssim: {1:.4f}'.format(val_psnr, val_ssim))"
   ]
  },
  {
   "cell_type": "code",
   "execution_count": null,
   "id": "79bbfb55",
   "metadata": {},
   "outputs": [
    {
     "name": "stdout",
     "output_type": "stream",
     "text": [
      "Seed:\t19\n",
      "cuda\n",
      "Start Val\n"
     ]
    },
    {
     "name": "stderr",
     "output_type": "stream",
     "text": [
      "100%|██████████| 24/24 [00:04<00:00,  5.68it/s]"
     ]
    },
    {
     "name": "stdout",
     "output_type": "stream",
     "text": [
      "Test2 lan3 : \n",
      "val_psnr: 29.51, val_ssim: 0.7760\n"
     ]
    },
    {
     "name": "stderr",
     "output_type": "stream",
     "text": [
      "\n"
     ]
    }
   ],
   "source": [
    "#test 2 \n",
    "val_batch_size=1\n",
    "seed=19\n",
    "restore_from_stylefilter='/home/duongnhan/Chon/MWFormer/ckpt/lan4/finetune/finetune3/style_best_all'\n",
    "restore_from_backbone='/home/duongnhan/Chon/MWFormer/ckpt/lan4/finetune/finetune3/finetune4_3190000.pth'\n",
    "val_data_dir='/home/duongnhan/Chon/data/result_test/test_2/lan2/'\n",
    "val_filename='CT.txt'\n",
    "save_path = '/home/duongnhan/Chon/data/result_test/test_2/lan3'\n",
    "\n",
    "val_psnr, val_ssim = run_denoise_info(val_batch_size, seed, restore_from_stylefilter, restore_from_backbone, val_data_dir, val_filename, save_path)\n",
    "print(\"Test2 lan3 : \")\n",
    "print('val_psnr: {0:.2f}, val_ssim: {1:.4f}'.format(val_psnr, val_ssim))"
   ]
  },
  {
   "cell_type": "markdown",
   "id": "7866b932",
   "metadata": {},
   "source": [
    "## test3 "
   ]
  },
  {
   "cell_type": "code",
   "execution_count": null,
   "id": "102419ec",
   "metadata": {},
   "outputs": [
    {
     "name": "stdout",
     "output_type": "stream",
     "text": [
      "Seed:\t19\n",
      "cuda\n"
     ]
    },
    {
     "name": "stdout",
     "output_type": "stream",
     "text": [
      "Start Val\n"
     ]
    },
    {
     "name": "stderr",
     "output_type": "stream",
     "text": [
      "100%|██████████| 16/16 [00:02<00:00,  5.57it/s]"
     ]
    },
    {
     "name": "stdout",
     "output_type": "stream",
     "text": [
      "Test1: \n",
      "val_psnr: 20.45, val_ssim: 0.2747\n"
     ]
    },
    {
     "name": "stderr",
     "output_type": "stream",
     "text": [
      "\n"
     ]
    }
   ],
   "source": [
    "#test 2 \n",
    "val_batch_size=1\n",
    "seed=19\n",
    "restore_from_stylefilter='/home/duongnhan/Chon/MWFormer/ckpt/lan4/finetune/finetune3/style_best_all'\n",
    "restore_from_backbone='/home/duongnhan/Chon/MWFormer/ckpt/lan4/finetune/finetune3/finetune4_3190000.pth'\n",
    "val_data_dir='/home/duongnhan/Chon/data/test/test_3/'\n",
    "val_filename='CT.txt'\n",
    "save_path = '/home/duongnhan/Chon/data/result_test/test_3/lan1'\n",
    "\n",
    "val_psnr, val_ssim = run_denoise_info(val_batch_size, seed, restore_from_stylefilter, restore_from_backbone, val_data_dir, val_filename, save_path)\n",
    "print(\"Test1: \")\n",
    "print('val_psnr: {0:.2f}, val_ssim: {1:.4f}'.format(val_psnr, val_ssim))"
   ]
  },
  {
   "cell_type": "code",
   "execution_count": null,
   "id": "5ffc9287",
   "metadata": {},
   "outputs": [
    {
     "name": "stdout",
     "output_type": "stream",
     "text": [
      "Seed:\t19\n",
      "cuda\n"
     ]
    },
    {
     "name": "stdout",
     "output_type": "stream",
     "text": [
      "Start Val\n"
     ]
    },
    {
     "name": "stderr",
     "output_type": "stream",
     "text": [
      "100%|██████████| 16/16 [00:02<00:00,  5.47it/s]"
     ]
    },
    {
     "name": "stdout",
     "output_type": "stream",
     "text": [
      "Test2 lan2 : \n",
      "val_psnr: 23.07, val_ssim: 0.4122\n"
     ]
    },
    {
     "name": "stderr",
     "output_type": "stream",
     "text": [
      "\n"
     ]
    }
   ],
   "source": [
    "#test 2 \n",
    "val_batch_size=1\n",
    "seed=19\n",
    "restore_from_stylefilter='/home/duongnhan/Chon/MWFormer/ckpt/lan4/finetune/finetune3/style_best_all'\n",
    "restore_from_backbone='/home/duongnhan/Chon/MWFormer/ckpt/lan4/finetune/finetune3/finetune4_3190000.pth'\n",
    "val_data_dir='/home/duongnhan/Chon/data/result_test/test_3/lan1/'\n",
    "val_filename='CT.txt'\n",
    "save_path = '/home/duongnhan/Chon/data/result_test/test_3/lan2'\n",
    "\n",
    "val_psnr, val_ssim = run_denoise_info(val_batch_size, seed, restore_from_stylefilter, restore_from_backbone, val_data_dir, val_filename, save_path)\n",
    "print(\"Test2 lan2 : \")\n",
    "print('val_psnr: {0:.2f}, val_ssim: {1:.4f}'.format(val_psnr, val_ssim))"
   ]
  },
  {
   "cell_type": "code",
   "execution_count": null,
   "id": "0d43cee6",
   "metadata": {},
   "outputs": [
    {
     "name": "stdout",
     "output_type": "stream",
     "text": [
      "Seed:\t19\n",
      "cuda\n"
     ]
    },
    {
     "name": "stdout",
     "output_type": "stream",
     "text": [
      "Start Val\n"
     ]
    },
    {
     "name": "stderr",
     "output_type": "stream",
     "text": [
      "100%|██████████| 16/16 [00:02<00:00,  5.49it/s]"
     ]
    },
    {
     "name": "stdout",
     "output_type": "stream",
     "text": [
      "Test2 lan2 : \n",
      "val_psnr: 24.64, val_ssim: 0.5269\n"
     ]
    },
    {
     "name": "stderr",
     "output_type": "stream",
     "text": [
      "\n"
     ]
    }
   ],
   "source": [
    "#test 2 \n",
    "val_batch_size=1\n",
    "seed=19\n",
    "restore_from_stylefilter='/home/duongnhan/Chon/MWFormer/ckpt/lan4/finetune/finetune3/style_best_all'\n",
    "restore_from_backbone='/home/duongnhan/Chon/MWFormer/ckpt/lan4/finetune/finetune3/finetune4_3190000.pth'\n",
    "val_data_dir='/home/duongnhan/Chon/data/result_test/test_3/lan2/'\n",
    "val_filename='CT.txt'\n",
    "save_path = '/home/duongnhan/Chon/data/result_test/test_3/lan3'\n",
    "\n",
    "val_psnr, val_ssim = run_denoise_info(val_batch_size, seed, restore_from_stylefilter, restore_from_backbone, val_data_dir, val_filename, save_path)\n",
    "print(\"Test2 lan2 : \")\n",
    "print('val_psnr: {0:.2f}, val_ssim: {1:.4f}'.format(val_psnr, val_ssim))"
   ]
  },
  {
   "cell_type": "code",
   "execution_count": null,
   "id": "2f9fadca",
   "metadata": {},
   "outputs": [
    {
     "name": "stdout",
     "output_type": "stream",
     "text": [
      "Seed:\t19\n",
      "cuda\n"
     ]
    },
    {
     "name": "stdout",
     "output_type": "stream",
     "text": [
      "Start Val\n"
     ]
    },
    {
     "name": "stderr",
     "output_type": "stream",
     "text": [
      "100%|██████████| 16/16 [00:02<00:00,  5.48it/s]\n"
     ]
    },
    {
     "name": "stdout",
     "output_type": "stream",
     "text": [
      "Test2 lan2 : \n",
      "val_psnr: 24.77, val_ssim: 0.5463\n"
     ]
    }
   ],
   "source": [
    "#test 2 \n",
    "val_batch_size=1\n",
    "seed=19\n",
    "restore_from_stylefilter='/home/duongnhan/Chon/MWFormer/ckpt/lan4/finetune/finetune3/style_best_all'\n",
    "restore_from_backbone='/home/duongnhan/Chon/MWFormer/ckpt/lan4/finetune/finetune3/finetune4_3190000.pth'\n",
    "val_data_dir='/home/duongnhan/Chon/data/result_test/test_3/lan3/'\n",
    "val_filename='CT.txt'\n",
    "save_path = '/home/duongnhan/Chon/data/result_test/test_3/lan4'\n",
    "\n",
    "val_psnr, val_ssim = run_denoise_info(val_batch_size, seed, restore_from_stylefilter, restore_from_backbone, val_data_dir, val_filename, save_path)\n",
    "print(\"Test2 lan2 : \")\n",
    "print('val_psnr: {0:.2f}, val_ssim: {1:.4f}'.format(val_psnr, val_ssim))"
   ]
  },
  {
   "cell_type": "code",
   "execution_count": null,
   "id": "fb5ed388",
   "metadata": {},
   "outputs": [
    {
     "name": "stdout",
     "output_type": "stream",
     "text": [
      "Seed:\t19\n",
      "cuda\n",
      "Start Val\n"
     ]
    },
    {
     "name": "stderr",
     "output_type": "stream",
     "text": [
      "100%|██████████| 16/16 [00:02<00:00,  5.56it/s]"
     ]
    },
    {
     "name": "stdout",
     "output_type": "stream",
     "text": [
      "Test2 lan2 : \n",
      "val_psnr: 24.69, val_ssim: 0.5440\n"
     ]
    },
    {
     "name": "stderr",
     "output_type": "stream",
     "text": [
      "\n"
     ]
    }
   ],
   "source": [
    "#test 2 \n",
    "val_batch_size=1\n",
    "seed=19\n",
    "restore_from_stylefilter='/home/duongnhan/Chon/MWFormer/ckpt/lan4/finetune/finetune3/style_best_all'\n",
    "restore_from_backbone='/home/duongnhan/Chon/MWFormer/ckpt/lan4/finetune/finetune3/finetune4_3190000.pth'\n",
    "val_data_dir='/home/duongnhan/Chon/data/result_test/test_3/lan4/'\n",
    "val_filename='CT.txt'\n",
    "save_path = '/home/duongnhan/Chon/data/result_test/test_3/lan5'\n",
    "\n",
    "val_psnr, val_ssim = run_denoise_info(val_batch_size, seed, restore_from_stylefilter, restore_from_backbone, val_data_dir, val_filename, save_path)\n",
    "print(\"Test2 lan2 : \")\n",
    "print('val_psnr: {0:.2f}, val_ssim: {1:.4f}'.format(val_psnr, val_ssim))"
   ]
  },
  {
   "cell_type": "markdown",
   "id": "28d98af3",
   "metadata": {},
   "source": [
    "## test 4\n"
   ]
  },
  {
   "cell_type": "code",
   "execution_count": null,
   "id": "85e10abc",
   "metadata": {},
   "outputs": [
    {
     "name": "stdout",
     "output_type": "stream",
     "text": [
      "Seed:\t19\n",
      "cuda\n"
     ]
    },
    {
     "name": "stdout",
     "output_type": "stream",
     "text": [
      "Start Val\n"
     ]
    },
    {
     "name": "stderr",
     "output_type": "stream",
     "text": [
      "100%|██████████| 4/4 [00:00<00:00,  4.48it/s]"
     ]
    },
    {
     "name": "stdout",
     "output_type": "stream",
     "text": [
      "Test1: \n",
      "val_psnr: 38.09, val_ssim: 0.9736\n"
     ]
    },
    {
     "name": "stderr",
     "output_type": "stream",
     "text": [
      "\n"
     ]
    }
   ],
   "source": [
    "#test 2 \n",
    "val_batch_size=1\n",
    "seed=19\n",
    "restore_from_stylefilter='/home/duongnhan/Chon/MWFormer/ckpt/lan4/finetune/finetune3/style_best_all'\n",
    "restore_from_backbone='/home/duongnhan/Chon/MWFormer/ckpt/lan4/finetune/finetune3/finetune4_3190000.pth'\n",
    "val_data_dir='/home/duongnhan/Chon/data/test/test_123/'\n",
    "val_filename='CT.txt'\n",
    "save_path = '/home/duongnhan/Chon/data/result_test/test_123/lan1'\n",
    "\n",
    "val_psnr, val_ssim = run_denoise_info(val_batch_size, seed, restore_from_stylefilter, restore_from_backbone, val_data_dir, val_filename, save_path)\n",
    "print(\"Test1: \")\n",
    "print('val_psnr: {0:.2f}, val_ssim: {1:.4f}'.format(val_psnr, val_ssim))"
   ]
  },
  {
   "cell_type": "code",
   "execution_count": null,
   "id": "3917f684",
   "metadata": {},
   "outputs": [
    {
     "name": "stdout",
     "output_type": "stream",
     "text": [
      "Seed:\t19\n",
      "cuda\n"
     ]
    },
    {
     "name": "stdout",
     "output_type": "stream",
     "text": [
      "Start Val\n"
     ]
    },
    {
     "name": "stderr",
     "output_type": "stream",
     "text": [
      "100%|██████████| 4/4 [00:00<00:00,  4.31it/s]"
     ]
    },
    {
     "name": "stdout",
     "output_type": "stream",
     "text": [
      "Test2 lan2 : \n",
      "val_psnr: 30.51, val_ssim: 0.8127\n"
     ]
    },
    {
     "name": "stderr",
     "output_type": "stream",
     "text": [
      "\n"
     ]
    }
   ],
   "source": [
    "#test 2 \n",
    "val_batch_size=1\n",
    "seed=19\n",
    "restore_from_stylefilter='/home/duongnhan/Chon/MWFormer/ckpt/lan4/finetune/finetune3/style_best_all'\n",
    "restore_from_backbone='/home/duongnhan/Chon/MWFormer/ckpt/lan4/finetune/finetune3/finetune4_3190000.pth'\n",
    "val_data_dir='/home/duongnhan/Chon/data/result_test/test_123/lan1/'\n",
    "val_filename='CT.txt'\n",
    "save_path = '/home/duongnhan/Chon/data/result_test/test_123/lan2'\n",
    "\n",
    "val_psnr, val_ssim = run_denoise_info(val_batch_size, seed, restore_from_stylefilter, restore_from_backbone, val_data_dir, val_filename, save_path)\n",
    "print(\"Test2 lan2 : \")\n",
    "print('val_psnr: {0:.2f}, val_ssim: {1:.4f}'.format(val_psnr, val_ssim))"
   ]
  },
  {
   "cell_type": "code",
   "execution_count": null,
   "id": "a80fa375",
   "metadata": {},
   "outputs": [
    {
     "name": "stdout",
     "output_type": "stream",
     "text": [
      "Seed:\t19\n",
      "cuda\n"
     ]
    },
    {
     "name": "stdout",
     "output_type": "stream",
     "text": [
      "Start Val\n"
     ]
    },
    {
     "name": "stderr",
     "output_type": "stream",
     "text": [
      "100%|██████████| 4/4 [00:00<00:00,  4.25it/s]\n"
     ]
    },
    {
     "name": "stdout",
     "output_type": "stream",
     "text": [
      "Test2 lan2 : \n",
      "val_psnr: 25.99, val_ssim: 0.5959\n"
     ]
    }
   ],
   "source": [
    "#test 2 \n",
    "val_batch_size=1\n",
    "seed=19\n",
    "restore_from_stylefilter='/home/duongnhan/Chon/MWFormer/ckpt/lan4/finetune/finetune3/style_best_all'\n",
    "restore_from_backbone='/home/duongnhan/Chon/MWFormer/ckpt/lan4/finetune/finetune3/finetune4_3190000.pth'\n",
    "val_data_dir='/home/duongnhan/Chon/data/result_test/test_1234/lan2/'\n",
    "val_filename='CT.txt'\n",
    "save_path = '/home/duongnhan/Chon/data/result_test/test_1234/lan3'\n",
    "\n",
    "val_psnr, val_ssim = run_denoise_info(val_batch_size, seed, restore_from_stylefilter, restore_from_backbone, val_data_dir, val_filename, save_path)\n",
    "print(\"Test2 lan2 : \")\n",
    "print('val_psnr: {0:.2f}, val_ssim: {1:.4f}'.format(val_psnr, val_ssim))"
   ]
  },
  {
   "cell_type": "code",
   "execution_count": null,
   "id": "da3b0443",
   "metadata": {},
   "outputs": [
    {
     "name": "stdout",
     "output_type": "stream",
     "text": [
      "Seed:\t19\n",
      "cuda\n"
     ]
    },
    {
     "name": "stdout",
     "output_type": "stream",
     "text": [
      "Start Val\n"
     ]
    },
    {
     "name": "stderr",
     "output_type": "stream",
     "text": [
      "100%|██████████| 4/4 [00:00<00:00,  4.47it/s]"
     ]
    },
    {
     "name": "stdout",
     "output_type": "stream",
     "text": [
      "Test2 lan2 : \n",
      "val_psnr: 25.30, val_ssim: 0.5554\n"
     ]
    },
    {
     "name": "stderr",
     "output_type": "stream",
     "text": [
      "\n"
     ]
    }
   ],
   "source": [
    "#test 2 \n",
    "val_batch_size=1\n",
    "seed=19\n",
    "restore_from_stylefilter='/home/duongnhan/Chon/MWFormer/ckpt/lan4/finetune/finetune3/style_best_all'\n",
    "restore_from_backbone='/home/duongnhan/Chon/MWFormer/ckpt/lan4/finetune/finetune3/finetune4_3190000.pth'\n",
    "val_data_dir='/home/duongnhan/Chon/data/result_test/test_1234/lan3/'\n",
    "val_filename='CT.txt'\n",
    "save_path = '/home/duongnhan/Chon/data/result_test/test_1234/lan4'\n",
    "\n",
    "val_psnr, val_ssim = run_denoise_info(val_batch_size, seed, restore_from_stylefilter, restore_from_backbone, val_data_dir, val_filename, save_path)\n",
    "print(\"Test2 lan2 : \")\n",
    "print('val_psnr: {0:.2f}, val_ssim: {1:.4f}'.format(val_psnr, val_ssim))"
   ]
  },
  {
   "cell_type": "code",
   "execution_count": null,
   "id": "249c3117",
   "metadata": {},
   "outputs": [],
   "source": [
    "import cv2\n",
    "import numpy as np\n",
    "from skimage.metrics import peak_signal_noise_ratio, structural_similarity\n",
    "\n",
    "def calculate_psnr_ssim(img1_path, img2_path):\n",
    "    # Đọc ảnh và chuyển sang RGB\n",
    "    img1 = cv2.imread(img1_path)\n",
    "    img2 = cv2.imread(img2_path)\n",
    "\n",
    "    if img1 is None or img2 is None:\n",
    "        raise ValueError(\"Một trong hai ảnh không tồn tại hoặc đường dẫn không đúng.\")\n",
    "\n",
    "    img1 = cv2.cvtColor(img1, cv2.COLOR_BGR2RGB)\n",
    "    img2 = cv2.cvtColor(img2, cv2.COLOR_BGR2RGB)\n",
    "\n",
    "    # Chuyển sang float [0, 1]\n",
    "    img1 = img1.astype(np.float32) / 255.0\n",
    "    img2 = img2.astype(np.float32) / 255.0\n",
    "\n",
    "    # Tính PSNR và SSIM\n",
    "    psnr = peak_signal_noise_ratio(img1, img2, data_range=1.0)\n",
    "    ssim = structural_similarity(img1, img2, data_range=1.0, multichannel=True)\n",
    "\n",
    "    return psnr, ssim\n"
   ]
  },
  {
   "cell_type": "code",
   "execution_count": null,
   "id": "ea62a4d9",
   "metadata": {},
   "outputs": [],
   "source": [
    "import os\n",
    "import cv2\n",
    "import numpy as np\n",
    "from skimage.metrics import peak_signal_noise_ratio, structural_similarity\n",
    "\n",
    "def calculate_psnr_ssim_folders(gt_folder, pred_folder, verbose=False):\n",
    "    gt_images = sorted(os.listdir(gt_folder))\n",
    "    pred_images = sorted(os.listdir(pred_folder))\n",
    "\n",
    "    assert len(gt_images) == len(pred_images), \"Số lượng ảnh không khớp!\"\n",
    "\n",
    "    psnr_list = []\n",
    "    ssim_list = []\n",
    "\n",
    "    for gt_file, pred_file in zip(gt_images, pred_images):\n",
    "        gt_path = os.path.join(gt_folder, gt_file)\n",
    "        pred_path = os.path.join(pred_folder, pred_file)\n",
    "\n",
    "        gt_img = cv2.imread(gt_path)\n",
    "        pred_img = cv2.imread(pred_path)\n",
    "\n",
    "        if gt_img is None or pred_img is None:\n",
    "            print(f\"Lỗi khi đọc {gt_file} hoặc {pred_file}. Bỏ qua.\")\n",
    "            continue\n",
    "\n",
    "        # Chuyển sang RGB và normalize\n",
    "        gt_img = cv2.cvtColor(gt_img, cv2.COLOR_BGR2RGB).astype(np.float32) / 255.0\n",
    "        pred_img = cv2.cvtColor(pred_img, cv2.COLOR_BGR2RGB).astype(np.float32) / 255.0\n",
    "\n",
    "        # Resize nếu cần (nên tránh, tốt nhất ảnh nên khớp sẵn)\n",
    "        if gt_img.shape != pred_img.shape:\n",
    "            print(f\"⚠️ Kích thước không khớp: {gt_file}, resize predicted ảnh.\")\n",
    "            pred_img = cv2.resize(pred_img, (gt_img.shape[1], gt_img.shape[0]))\n",
    "\n",
    "        psnr = peak_signal_noise_ratio(gt_img, pred_img, data_range=1.0)\n",
    "        # ssim = structural_similarity(gt_img, pred_img, multichannel=True, data_range=1.0)\n",
    "        ssim = structural_similarity(gt_img, pred_img, channel_axis=-1, data_range=1.0)\n",
    "\n",
    "\n",
    "        psnr_list.append(psnr)\n",
    "        ssim_list.append(ssim)\n",
    "\n",
    "        if verbose:\n",
    "            print(f\"{gt_file}: PSNR = {psnr:.2f}, SSIM = {ssim:.4f}\")\n",
    "\n",
    "    avg_psnr = np.mean(psnr_list)\n",
    "    avg_ssim = np.mean(ssim_list)\n",
    "\n",
    "    return avg_psnr, avg_ssim\n"
   ]
  },
  {
   "cell_type": "code",
   "execution_count": null,
   "id": "1c7aee40",
   "metadata": {},
   "outputs": [
    {
     "name": "stdout",
     "output_type": "stream",
     "text": [
      "ID_0001_g1_g2_g4.jpg: PSNR = 17.07, SSIM = 0.1345\n",
      "ID_0001_g1_g3_g2.jpg: PSNR = 17.03, SSIM = 0.1356\n",
      "ID_0001_g1_g3_g4.jpg: PSNR = 17.01, SSIM = 0.1362\n",
      "ID_0001_g2_g3_g4.jpg: PSNR = 16.99, SSIM = 0.1335\n",
      "ID_0032_g1_g2_g4.jpg: PSNR = 16.69, SSIM = 0.1486\n",
      "ID_0032_g1_g3_g2.jpg: PSNR = 16.63, SSIM = 0.1502\n"
     ]
    },
    {
     "name": "stdout",
     "output_type": "stream",
     "text": [
      "ID_0032_g1_g3_g4.jpg: PSNR = 16.62, SSIM = 0.1509\n",
      "ID_0032_g2_g3_g4.jpg: PSNR = 16.59, SSIM = 0.1482\n",
      "ID_0163_g1_g2_g4.jpg: PSNR = 17.29, SSIM = 0.1177\n",
      "ID_0163_g1_g3_g2.jpg: PSNR = 17.21, SSIM = 0.1171\n",
      "ID_0163_g1_g3_g4.jpg: PSNR = 17.20, SSIM = 0.1181\n",
      "ID_0163_g2_g3_g4.jpg: PSNR = 17.15, SSIM = 0.1150\n",
      "ID_0199_g1_g2_g4.jpg: PSNR = 16.93, SSIM = 0.1478\n",
      "ID_0199_g1_g3_g2.jpg: PSNR = 16.85, SSIM = 0.1479\n",
      "ID_0199_g1_g3_g4.jpg: PSNR = 16.85, SSIM = 0.1490\n",
      "ID_0199_g2_g3_g4.jpg: PSNR = 16.82, SSIM = 0.1458\n",
      "\n",
      "📊 Average PSNR: 16.93, Average SSIM: 0.1373\n"
     ]
    }
   ],
   "source": [
    "gt_folder = \"/home/duongnhan/Chon/data/test/test_3/gt\"\n",
    "pred_folder = \"/home/duongnhan/Chon/data/test/test_3/input\"\n",
    "\n",
    "avg_psnr, avg_ssim = calculate_psnr_ssim_folders(gt_folder, pred_folder, verbose=True)\n",
    "print(f\"\\n📊 Average PSNR: {avg_psnr:.2f}, Average SSIM: {avg_ssim:.4f}\")\n"
   ]
  },
  {
   "cell_type": "code",
   "execution_count": null,
   "id": "564ceff2",
   "metadata": {},
   "outputs": [],
   "source": [
    "import cv2\n",
    "import numpy as np\n",
    "import matplotlib.pyplot as plt\n",
    "from skimage.metrics import peak_signal_noise_ratio, structural_similarity\n",
    "\n",
    "def plot_intensity_profile(gt_path, pred_path, show_images=True):\n",
    "    # Đọc ảnh và chuyển sang grayscale\n",
    "    gt = cv2.imread(gt_path, cv2.IMREAD_GRAYSCALE)\n",
    "    pred = cv2.imread(pred_path, cv2.IMREAD_GRAYSCALE)\n",
    "\n",
    "    # Kiểm tra kích thước\n",
    "    if gt.shape != pred.shape:\n",
    "        print(\"⚠️ Resize predicted image to match ground truth.\")\n",
    "        pred = cv2.resize(pred, (gt.shape[1], gt.shape[0]))\n",
    "\n",
    "    # Tính PSNR và SSIM\n",
    "    psnr = peak_signal_noise_ratio(gt, pred, data_range=255)\n",
    "    ssim = structural_similarity(gt, pred, data_range=255)\n",
    "\n",
    "    # Dòng giữa ảnh\n",
    "    row = gt.shape[0] // 2\n",
    "    x = np.arange(gt.shape[1])\n",
    "    gt_line = gt[row, :]\n",
    "    pred_line = pred[row, :]\n",
    "\n",
    "    # Vẽ biểu đồ\n",
    "    fig, axs = plt.subplots(2, 2, figsize=(10, 8))\n",
    "\n",
    "    if show_images:\n",
    "        axs[0, 0].imshow(gt, cmap='gray')\n",
    "        axs[0, 0].set_title(\"Ground Truth\")\n",
    "        axs[0, 0].axis('off')\n",
    "\n",
    "        axs[0, 1].imshow(pred, cmap='gray')\n",
    "        axs[0, 1].set_title(f\"Predicted\\nPSNR: {psnr:.2f}, SSIM: {ssim:.2f}\")\n",
    "        axs[0, 1].axis('off')\n",
    "\n",
    "    axs[1, 0].plot(x, gt_line, 'b--', label='Original Image')\n",
    "    axs[1, 0].set_title(\"GT Profile\")\n",
    "    axs[1, 0].set_xlabel(\"X Direction\")\n",
    "    axs[1, 0].set_ylabel(\"Intensity\")\n",
    "    axs[1, 0].set_ylim([0, 260])\n",
    "    axs[1, 0].legend()\n",
    "\n",
    "    axs[1, 1].plot(x, gt_line, 'b--', label='Original Image')\n",
    "    axs[1, 1].plot(x, pred_line, 'k--', label='Image')\n",
    "    axs[1, 1].set_title(\"Comparison Profile\")\n",
    "    axs[1, 1].set_xlabel(\"X Direction\")\n",
    "    axs[1, 1].set_ylabel(\"Intensity\")\n",
    "    axs[1, 1].set_ylim([0, 260])\n",
    "    axs[1, 1].legend()\n",
    "\n",
    "    plt.tight_layout()\n",
    "    plt.show()\n",
    "\n",
    "\n"
   ]
  },
  {
   "cell_type": "code",
   "execution_count": null,
   "id": "e7882028",
   "metadata": {},
   "outputs": [
    {
     "data": {
      "image/png": "[encoded data removed]",
      "text/plain": [
       "<Figure size 1000x800 with 4 Axes>"
      ]
     },
     "metadata": {},
     "output_type": "display_data"
    }
   ],
   "source": [
    "# 🧪 Gọi hàm (điền đúng đường dẫn ảnh của bạn)\n",
    "plot_intensity_profile(\n",
    "    gt_path=\"/home/duongnhan/Chon/data/test/test_2/gt/ID_0001_g1_g2.jpg\",\n",
    "    pred_path=\"/home/duongnhan/Chon/data/result_test/test_2/lan2/input/ID_0001_g1_g2.jpg\"\n",
    ")"
   ]
  },
  {
   "cell_type": "markdown",
   "id": "8bffb13b",
   "metadata": {},
   "source": [
    "## xuly"
   ]
  },
  {
   "cell_type": "code",
   "execution_count": null,
   "id": "9159e9eb",
   "metadata": {},
   "outputs": [
    {
     "name": "stdout",
     "output_type": "stream",
     "text": [
      "Setting timesteps for inference: [200]\n"
     ]
    },
    {
     "name": "stderr",
     "output_type": "stream",
     "text": [
      "Loading pipeline components...: 100%|██████████| 5/5 [00:12<00:00,  2.59s/it]\n",
      "You have disabled the safety checker for <class 'diffusers.pipelines.stable_diffusion.pipeline_stable_diffusion.StableDiffusionPipeline'> by passing `safety_checker=None`. Ensure that you abide to the conditions of the Stable Diffusion license and do not expose unfiltered results in services or applications open to the public. Both the diffusers team and Hugging Face strongly recommend to keep the safety filter enabled in all public facing circumstances, disabling it only for use-cases that involve analyzing network behavior or auditing its results. For more information, please have a look at https://github.com/huggingface/diffusers/pull/254 .\n",
      "You have disabled the safety checker for <class 'diffusers.pipelines.stable_diffusion.pipeline_stable_diffusion_inversion_sr.StableDiffusionInvEnhancePipeline'> by passing `safety_checker=None`. Ensure that you abide to the conditions of the Stable Diffusion license and do not expose unfiltered results in services or applications open to the public. Both the diffusers team and Hugging Face strongly recommend to keep the safety filter enabled in all public facing circumstances, disabling it only for use-cases that involve analyzing network behavior or auditing its results. For more information, please have a look at https://github.com/huggingface/diffusers/pull/254 .\n"
     ]
    },
    {
     "name": "stdout",
     "output_type": "stream",
     "text": [
      "Activating gradient checkpoing for vae...\n",
      "Loading started model from InvSR/weights/noise_predictor_sd_turbo_v5.pth...\n"
     ]
    },
    {
     "name": "stderr",
     "output_type": "stream",
     "text": [
      "/home/duongnhan/Chon/Capstone_project/Backend/InvSR/sampler_invsr.py:101: FutureWarning: You are using `torch.load` with `weights_only=False` (the current default value), which uses the default pickle module implicitly. It is possible to construct malicious pickle data which will execute arbitrary code during unpickling (See https://github.com/pytorch/pytorch/blob/main/SECURITY.md#untrusted-models for more details). In a future release, the default value for `weights_only` will be flipped to `True`. This limits the functions that could be executed during unpickling. Arbitrary objects will no longer be allowed to be loaded via this mode unless they are explicitly allowlisted by the user via `torch.serialization.add_safe_globals`. We recommend you start setting `weights_only=True` for any use case where you don't have full control of the loaded file. Please open an issue on GitHub for any issues related to this experimental feature.\n",
      "  state = torch.load(ckpt_path, map_location=f\"cuda\")\n"
     ]
    },
    {
     "name": "stdout",
     "output_type": "stream",
     "text": [
      "Loading Done\n"
     ]
    },
    {
     "name": "stderr",
     "output_type": "stream",
     "text": [
      "/home/duongnhan/Chon/Capstone_project/Backend/InvSR/src/diffusers/configuration_utils.py:140: FutureWarning: Accessing config attribute `vae_latent_channels` directly via 'VaeImageProcessor' object attribute is deprecated. Please access 'vae_latent_channels' over 'VaeImageProcessor's config object instead, e.g. 'scheduler.config.vae_latent_channels'.\n",
      "  deprecate(\"direct config name access\", \"1.0.0\", deprecation_message, standard_warn=False)\n",
      "100%|██████████| 1/1 [00:00<00:00,  5.37it/s]\n",
      "100%|██████████| 1/1 [00:00<00:00, 38.37it/s]\n",
      "100%|██████████| 1/1 [00:00<00:00, 38.28it/s]\n",
      "100%|██████████| 1/1 [00:00<00:00, 38.42it/s]\n",
      "100%|██████████| 1/1 [00:00<00:00, 38.38it/s]\n",
      "100%|██████████| 1/1 [00:00<00:00, 38.05it/s]\n",
      "100%|██████████| 1/1 [00:00<00:00, 38.22it/s]\n",
      "100%|██████████| 1/1 [00:00<00:00, 38.57it/s]\n",
      "100%|██████████| 1/1 [00:00<00:00, 38.35it/s]\n",
      "100%|██████████| 1/1 [00:00<00:00, 38.67it/s]\n",
      "100%|██████████| 1/1 [00:00<00:00, 38.03it/s]\n",
      "100%|██████████| 1/1 [00:00<00:00, 37.79it/s]\n",
      "100%|██████████| 1/1 [00:00<00:00, 38.03it/s]\n",
      "100%|██████████| 1/1 [00:00<00:00, 37.99it/s]\n",
      "100%|██████████| 1/1 [00:00<00:00, 38.31it/s]\n",
      "100%|██████████| 1/1 [00:00<00:00, 38.24it/s]\n",
      "100%|██████████| 1/1 [00:00<00:00, 37.73it/s]\n",
      "100%|██████████| 1/1 [00:00<00:00, 38.10it/s]\n",
      "100%|██████████| 1/1 [00:00<00:00, 37.87it/s]\n",
      "100%|██████████| 1/1 [00:00<00:00, 38.10it/s]\n",
      "100%|██████████| 1/1 [00:00<00:00, 38.22it/s]\n",
      "100%|██████████| 1/1 [00:00<00:00, 38.02it/s]\n",
      "100%|██████████| 1/1 [00:00<00:00, 38.24it/s]\n",
      "100%|██████████| 1/1 [00:00<00:00, 38.20it/s]\n",
      "100%|██████████| 1/1 [00:00<00:00, 11.29it/s]\n"
     ]
    },
    {
     "name": "stdout",
     "output_type": "stream",
     "text": [
      "Processing done, enjoy the results in /home/duongnhan/Chon/data/result_test/test_2/lan2\n"
     ]
    }
   ],
   "source": [
    "from runSR import runSR\n",
    "\n",
    "runSR(input_path= \"/home/duongnhan/Chon/data/result_test/test_2/lan2/input/ID_0001_g1_g2.jpg\", output_path= \"/home/duongnhan/Chon/data/result_test/test_2/lan2/\")"
   ]
  },
  {
   "cell_type": "code",
   "execution_count": null,
   "id": "8955d1d8",
   "metadata": {},
   "outputs": [
    {
     "name": "stdout",
     "output_type": "stream",
     "text": [
      "abc\n",
      "abc.jpg\n"
     ]
    }
   ],
   "source": [
    "filename = '/input/abc.jpg'\n",
    "filename = filename.split('/')[-1]  \n",
    "original_name = filename.split('.')[0]\n",
    "print (original_name)\n",
    "print(filename)"
   ]
  },
  {
   "cell_type": "code",
   "execution_count": null,
   "id": "ea13501d",
   "metadata": {},
   "outputs": [],
   "source": [
    "from rundenoise import run_denoise_info\n",
    "\n",
    "#test 1 \n",
    "val_batch_size=1\n",
    "seed=19\n",
    "restore_from_stylefilter='/home/duongnhan/Chon/MWFormer/ckpt/lan4/finetune/finetune3/style_best_all'\n",
    "restore_from_backbone='/home/duongnhan/Chon/MWFormer/ckpt/lan4/finetune/finetune3/finetune4_3190000.pth'\n",
    "val_data_dir='/home/duongnhan/Chon/data/test/test_5/'\n",
    "val_filename='CT.txt'\n",
    "save_path = '/home/duongnhan/Chon/data/result_test/test_5'\n",
    "\n",
    "val_psnr, val_ssim = run_denoise_info(val_batch_size, seed, restore_from_stylefilter, restore_from_backbone, val_data_dir, val_filename, save_path)\n",
    "print(\"Test1: \")\n",
    "print('val_psnr: {0:.2f}, val_ssim: {1:.4f}'.format(val_psnr, val_ssim))"
   ]
  },
  {
   "cell_type": "code",
   "execution_count": 11,
   "id": "dbfe66d3",
   "metadata": {},
   "outputs": [
    {
     "name": "stdout",
     "output_type": "stream",
     "text": [
      "Seed:\t19\n",
      "cuda\n"
     ]
    },
    {
     "name": "stdout",
     "output_type": "stream",
     "text": [
      "Start Val\n"
     ]
    },
    {
     "name": "stderr",
     "output_type": "stream",
     "text": [
      "100%|██████████| 16/16 [00:02<00:00,  5.45it/s]\n"
     ]
    },
    {
     "name": "stdout",
     "output_type": "stream",
     "text": [
      "Start Val\n"
     ]
    },
    {
     "name": "stderr",
     "output_type": "stream",
     "text": [
      "100%|██████████| 16/16 [00:02<00:00,  5.55it/s]\n"
     ]
    },
    {
     "name": "stdout",
     "output_type": "stream",
     "text": [
      "Start Val\n"
     ]
    },
    {
     "name": "stderr",
     "output_type": "stream",
     "text": [
      "100%|██████████| 16/16 [00:02<00:00,  5.47it/s]\n"
     ]
    }
   ],
   "source": [
    "from rundenoise import run_denoise_info, run_denoise_multi\n",
    "\n",
    "#test 1 \n",
    "val_batch_size=1\n",
    "seed=19\n",
    "restore_from_stylefilter='/home/duongnhan/Chon/MWFormer/ckpt/lan4/finetune/finetune3/style_best_all'\n",
    "restore_from_backbone='/home/duongnhan/Chon/MWFormer/ckpt/lan4/finetune/finetune3/finetune4_3190000.pth'\n",
    "val_data_dir='/home/duongnhan/Chon/data/test/test_3/'\n",
    "val_filename='CT.txt'\n",
    "save_path = '/home/duongnhan/Chon/data/result_test/test_123_chuan'\n",
    "\n",
    "val_psnr = run_denoise_multi(val_batch_size, seed, restore_from_stylefilter, restore_from_backbone, val_data_dir, val_filename, save_path, stage = 3)\n",
    "# print(\"Test1: \")\n",
    "# print('val_psnr: {0:.2f}, val_ssim: {1:.4f}'.format(val_psnr, val_ssim))"
   ]
  },
  {
   "cell_type": "code",
   "execution_count": 11,
   "id": "ba18f1e4",
   "metadata": {},
   "outputs": [],
   "source": [
    "\n",
    "import os\n",
    "import time\n",
    "import torch\n",
    "import torch.nn as nn\n",
    "from torch.utils.data import DataLoader\n",
    "from MWFormer.val_data_functions import ValData\n",
    "from MWFormer.utils_val import validation_stylevec, validation_stylevec2, validation_stylevec3, validation_stylevec_savef\n",
    "import numpy as np\n",
    "import random\n",
    "from MWFormer.model.EncDec_3 import Network_top    #default\n",
    "from MWFormer.model.style_filter64_3 import StyleFilter_Top\n",
    "import sys\n",
    "\n",
    "def run_denoise_info_3(\n",
    "    val_batch_size=1,\n",
    "    seed=19,\n",
    "    restore_from_stylefilter='',\n",
    "    restore_from_backbone='',\n",
    "    val_data_dir='',\n",
    "    val_filename='CT.txt',\n",
    "    save_path = ''\n",
    "):\n",
    "    # Set seed\n",
    "    if seed is not None:\n",
    "        np.random.seed(seed)\n",
    "        torch.manual_seed(seed)\n",
    "        torch.cuda.manual_seed(seed)\n",
    "        random.seed(seed) \n",
    "        print('Seed:\\t{}'.format(seed))\n",
    "\n",
    "    device_ids = [Id for Id in range(torch.cuda.device_count())]\n",
    "    device = torch.device(\"cuda\" if torch.cuda.is_available() else \"cpu\")\n",
    "    print(device)\n",
    "\n",
    "    data_dir15 = '/home/duongnhan/Chon/data/test_300/15/'\n",
    "    data_dir20 = '/home/duongnhan/Chon/data/test_300/20/'\n",
    "    data_dir25 = '/home/duongnhan/Chon/data/test_300/25/'\n",
    "    data_dir30 = '/home/duongnhan/Chon/data/test_300/30/'\n",
    "    data_dir35 = '/home/duongnhan/Chon/data/test_300/35/'\n",
    "    data_dir40 = '/home/duongnhan/Chon/data/test_300/40/'\n",
    "    val_data_loader15 = DataLoader(ValData(data_dir15, val_filename), batch_size=val_batch_size, shuffle=False, num_workers=8 )\n",
    "    val_data_loader20 = DataLoader(ValData(data_dir20, val_filename), batch_size=val_batch_size, shuffle=False, num_workers=8 )\n",
    "    val_data_loader25 = DataLoader(ValData(data_dir25, val_filename), batch_size=val_batch_size, shuffle=False, num_workers=8 )\n",
    "    val_data_loader30 = DataLoader(ValData(data_dir30, val_filename), batch_size=val_batch_size, shuffle=False, num_workers=8 )\n",
    "    val_data_loader35 = DataLoader(ValData(data_dir35, val_filename), batch_size=val_batch_size, shuffle=False, num_workers=8 )\n",
    "    val_data_loader40 = DataLoader(ValData(data_dir40, val_filename), batch_size=val_batch_size, shuffle=False, num_workers=8 )\n",
    "\n",
    "    net = Network_top().to(device)\n",
    "    net = nn.DataParallel(net, device_ids=device_ids)\n",
    "\n",
    "    weights_dict = torch.load(restore_from_backbone)\n",
    "    net.load_state_dict(weights_dict)\n",
    "    net.eval()\n",
    "\n",
    "    StyleFilter = StyleFilter_Top().to(device)\n",
    "    StyleFilter = nn.DataParallel(StyleFilter, device_ids=device_ids)\n",
    "\n",
    "    restore = torch.load(restore_from_stylefilter, map_location=lambda storage, loc: storage).module.state_dict()\n",
    "    weights_dict = {}\n",
    "    for k, v in restore.items():\n",
    "        new_k = 'module.' + k\n",
    "        weights_dict[new_k] = v\n",
    "\n",
    "    StyleFilter.load_state_dict(weights_dict)\n",
    "    for param in StyleFilter.parameters():\n",
    "        param.requires_grad = False\n",
    "    StyleFilter.eval()\n",
    "\n",
    "    test_levels = [15, 20, 25, 30, 35, 40]\n",
    "    val_data_loaders = {\n",
    "        15: val_data_loader15,\n",
    "        20: val_data_loader20,\n",
    "        25: val_data_loader25,\n",
    "        30: val_data_loader30,\n",
    "        35: val_data_loader35,\n",
    "        40: val_data_loader40\n",
    "    }\n",
    "\n",
    "    with torch.no_grad():\n",
    "        for level in test_levels:\n",
    "            loader = val_data_loaders[level]\n",
    "            # save_dir = '/home/duongnhan/Chon/data/test'\n",
    "            save_dir = os.path.join(save_path, f\"level_{level}\")\n",
    "            val_psnr, val_ssim = validation_stylevec_savef(StyleFilter, net, loader, device, save_dir)\n",
    "            print(f\"Std = val_data_loader{level}\")\n",
    "            print(f\"val_psnr: {val_psnr:.2f}, val_ssim: {val_ssim:.4f}\")\n",
    "\n",
    "\n",
    "    # return val_psnr, val_ssim"
   ]
  },
  {
   "cell_type": "code",
   "execution_count": 12,
   "id": "25f8b6b8",
   "metadata": {},
   "outputs": [
    {
     "name": "stdout",
     "output_type": "stream",
     "text": [
      "Seed:\t19\n",
      "cuda\n"
     ]
    },
    {
     "name": "stderr",
     "output_type": "stream",
     "text": [
      "/tmp/ipykernel_93215/2096233190.py:51: FutureWarning: You are using `torch.load` with `weights_only=False` (the current default value), which uses the default pickle module implicitly. It is possible to construct malicious pickle data which will execute arbitrary code during unpickling (See https://github.com/pytorch/pytorch/blob/main/SECURITY.md#untrusted-models for more details). In a future release, the default value for `weights_only` will be flipped to `True`. This limits the functions that could be executed during unpickling. Arbitrary objects will no longer be allowed to be loaded via this mode unless they are explicitly allowlisted by the user via `torch.serialization.add_safe_globals`. We recommend you start setting `weights_only=True` for any use case where you don't have full control of the loaded file. Please open an issue on GitHub for any issues related to this experimental feature.\n",
      "  weights_dict = torch.load(restore_from_backbone)\n",
      "/tmp/ipykernel_93215/2096233190.py:58: FutureWarning: You are using `torch.load` with `weights_only=False` (the current default value), which uses the default pickle module implicitly. It is possible to construct malicious pickle data which will execute arbitrary code during unpickling (See https://github.com/pytorch/pytorch/blob/main/SECURITY.md#untrusted-models for more details). In a future release, the default value for `weights_only` will be flipped to `True`. This limits the functions that could be executed during unpickling. Arbitrary objects will no longer be allowed to be loaded via this mode unless they are explicitly allowlisted by the user via `torch.serialization.add_safe_globals`. We recommend you start setting `weights_only=True` for any use case where you don't have full control of the loaded file. Please open an issue on GitHub for any issues related to this experimental feature.\n",
      "  restore = torch.load(restore_from_stylefilter, map_location=lambda storage, loc: storage).module.state_dict()\n"
     ]
    },
    {
     "name": "stdout",
     "output_type": "stream",
     "text": [
      "Start Val\n"
     ]
    },
    {
     "name": "stderr",
     "output_type": "stream",
     "text": [
      "  4%|▍         | 60/1372 [00:10<03:41,  5.93it/s]\n"
     ]
    },
    {
     "name": "stdout",
     "output_type": "stream",
     "text": [
      "Std = val_data_loader15\n",
      "val_psnr: 31.91, val_ssim: 0.8161\n",
      "Start Val\n"
     ]
    },
    {
     "name": "stderr",
     "output_type": "stream",
     "text": [
      "  4%|▍         | 60/1372 [00:10<03:40,  5.96it/s]\n"
     ]
    },
    {
     "name": "stdout",
     "output_type": "stream",
     "text": [
      "Std = val_data_loader20\n",
      "val_psnr: 32.97, val_ssim: 0.8321\n",
      "Start Val\n"
     ]
    },
    {
     "name": "stderr",
     "output_type": "stream",
     "text": [
      "  4%|▍         | 60/1372 [00:10<03:43,  5.86it/s]\n"
     ]
    },
    {
     "name": "stdout",
     "output_type": "stream",
     "text": [
      "Std = val_data_loader25\n",
      "val_psnr: 34.04, val_ssim: 0.8520\n",
      "Start Val\n"
     ]
    },
    {
     "name": "stderr",
     "output_type": "stream",
     "text": [
      "  4%|▍         | 60/1372 [00:10<03:44,  5.85it/s]\n"
     ]
    },
    {
     "name": "stdout",
     "output_type": "stream",
     "text": [
      "Std = val_data_loader30\n",
      "val_psnr: 35.10, val_ssim: 0.8679\n",
      "Start Val\n"
     ]
    },
    {
     "name": "stderr",
     "output_type": "stream",
     "text": [
      "  4%|▍         | 60/1372 [00:10<03:43,  5.86it/s]\n"
     ]
    },
    {
     "name": "stdout",
     "output_type": "stream",
     "text": [
      "Std = val_data_loader35\n",
      "val_psnr: 35.33, val_ssim: 0.8655\n",
      "Start Val\n"
     ]
    },
    {
     "name": "stderr",
     "output_type": "stream",
     "text": [
      "  4%|▍         | 60/1372 [00:10<03:40,  5.95it/s]"
     ]
    },
    {
     "name": "stdout",
     "output_type": "stream",
     "text": [
      "Std = val_data_loader40\n",
      "val_psnr: 33.63, val_ssim: 0.8268\n"
     ]
    },
    {
     "name": "stderr",
     "output_type": "stream",
     "text": [
      "\n"
     ]
    }
   ],
   "source": [
    "run_denoise_info_3(\n",
    "    restore_from_stylefilter='/home/duongnhan/Chon/MWFormer/ckpt/lan3/finetune2/style_best_all',\n",
    "    restore_from_backbone='/home/duongnhan/Chon/MWFormer/ckpt/lan3/finetune2/finetune3_2150000.pth',\n",
    "    save_path = '/home/duongnhan/Chon/data/result_test/test_300_25/'\n",
    ")"
   ]
  },
  {
   "cell_type": "code",
   "execution_count": null,
   "id": "0d21d27d",
   "metadata": {},
   "outputs": [],
   "source": []
  },
  {
   "cell_type": "code",
   "execution_count": 3,
   "id": "0b8cd2ed",
   "metadata": {},
   "outputs": [],
   "source": [
    "\n",
    "import os\n",
    "import time\n",
    "import torch\n",
    "import torch.nn as nn\n",
    "from torch.utils.data import DataLoader\n",
    "from MWFormer.val_data_functions import ValData\n",
    "from MWFormer.utils_val import validation_stylevec, validation_stylevec2, validation_stylevec3, validation_stylevec_savef\n",
    "import numpy as np\n",
    "import random\n",
    "from MWFormer.model.EncDec import Network_top    #default\n",
    "from MWFormer.model.style_filter64 import StyleFilter_Top\n",
    "import sys\n",
    "\n",
    "def run_denoise_info(\n",
    "    val_batch_size=1,\n",
    "    seed=19,\n",
    "    restore_from_stylefilter='/home/duongnhan/Chon/MWFormer/ckpt/lan4/finetune/finetuneLDCT_2/style_best_all',\n",
    "    restore_from_backbone='/home/duongnhan/Chon/MWFormer/ckpt/lan4/finetune/finetuneLDCT_2/finetune4_LDCT80000.pth',\n",
    "    val_data_dir='/home/duongnhan/Chon/Capstone_project/Backend/MWFormer/data/bew/',\n",
    "    val_filename='CT.txt',\n",
    "    save_path = ''\n",
    "):\n",
    "    # Set seed\n",
    "    if seed is not None:\n",
    "        np.random.seed(seed)\n",
    "        torch.manual_seed(seed)\n",
    "        torch.cuda.manual_seed(seed)\n",
    "        random.seed(seed) \n",
    "        print('Seed:\\t{}'.format(seed))\n",
    "\n",
    "    device_ids = [Id for Id in range(torch.cuda.device_count())]\n",
    "    device = torch.device(\"cuda\" if torch.cuda.is_available() else \"cpu\")\n",
    "    print(device)\n",
    "\n",
    "    data_dir15 = '/home/duongnhan/Chon/data/test_200/15/'\n",
    "    data_dir20 = '/home/duongnhan/Chon/data/test_200/20/'\n",
    "    data_dir25 = '/home/duongnhan/Chon/data/test_200/25/'\n",
    "    data_dir30 = '/home/duongnhan/Chon/data/test_200/30/'\n",
    "    data_dir35 = '/home/duongnhan/Chon/data/test_200/35/'\n",
    "    data_dir40 = '/home/duongnhan/Chon/data/test_200/40/'\n",
    "    val_data_loader15 = DataLoader(ValData(data_dir15, val_filename), batch_size=val_batch_size, shuffle=False, num_workers=8 )\n",
    "    val_data_loader20 = DataLoader(ValData(data_dir20, val_filename), batch_size=val_batch_size, shuffle=False, num_workers=8 )\n",
    "    val_data_loader25 = DataLoader(ValData(data_dir25, val_filename), batch_size=val_batch_size, shuffle=False, num_workers=8 )\n",
    "    val_data_loader30 = DataLoader(ValData(data_dir30, val_filename), batch_size=val_batch_size, shuffle=False, num_workers=8 )\n",
    "    val_data_loader35 = DataLoader(ValData(data_dir35, val_filename), batch_size=val_batch_size, shuffle=False, num_workers=8 )\n",
    "    val_data_loader40 = DataLoader(ValData(data_dir40, val_filename), batch_size=val_batch_size, shuffle=False, num_workers=8 )\n",
    "\n",
    "    net = Network_top().to(device)\n",
    "    net = nn.DataParallel(net, device_ids=device_ids)\n",
    "\n",
    "    weights_dict = torch.load(restore_from_backbone)\n",
    "    # net.load_state_dict(weights_dict)\n",
    "    net.load_state_dict(weights_dict, strict=False)\n",
    "\n",
    "    net.eval()\n",
    "\n",
    "    StyleFilter = StyleFilter_Top().to(device)\n",
    "    StyleFilter = nn.DataParallel(StyleFilter, device_ids=device_ids)\n",
    "\n",
    "    restore = torch.load(restore_from_stylefilter, map_location=lambda storage, loc: storage).module.state_dict()\n",
    "    weights_dict = {}\n",
    "    for k, v in restore.items():\n",
    "        new_k = 'module.' + k\n",
    "        weights_dict[new_k] = v\n",
    "\n",
    "    StyleFilter.load_state_dict(weights_dict)\n",
    "    for param in StyleFilter.parameters():\n",
    "        param.requires_grad = False\n",
    "    StyleFilter.eval()\n",
    "\n",
    "    test_levels = [15, 20, 25, 30, 35, 40]\n",
    "    val_data_loaders = {\n",
    "        15: val_data_loader15,\n",
    "        20: val_data_loader20,\n",
    "        25: val_data_loader25,\n",
    "        30: val_data_loader30,\n",
    "        35: val_data_loader35,\n",
    "        40: val_data_loader40\n",
    "    }\n",
    "\n",
    "    with torch.no_grad():\n",
    "        for level in test_levels:\n",
    "            loader = val_data_loaders[level]\n",
    "            # save_dir = '/home/duongnhan/Chon/data/test'\n",
    "            save_dir = os.path.join(save_path, f\"level_{level}\")\n",
    "            val_psnr, val_ssim = validation_stylevec_savef(StyleFilter, net, loader, device, save_dir)\n",
    "            print(f\"Std = val_data_loader{level}\")\n",
    "            print(f\"val_psnr: {val_psnr:.2f}, val_ssim: {val_ssim:.4f}\")\n",
    "\n",
    "\n",
    "    # return val_psnr, val_ssim"
   ]
  },
  {
   "cell_type": "code",
   "execution_count": 4,
   "id": "551ea6b7",
   "metadata": {},
   "outputs": [
    {
     "name": "stdout",
     "output_type": "stream",
     "text": [
      "Seed:\t19\n",
      "cuda\n"
     ]
    },
    {
     "name": "stderr",
     "output_type": "stream",
     "text": [
      "/tmp/ipykernel_21629/3832233960.py:51: FutureWarning: You are using `torch.load` with `weights_only=False` (the current default value), which uses the default pickle module implicitly. It is possible to construct malicious pickle data which will execute arbitrary code during unpickling (See https://github.com/pytorch/pytorch/blob/main/SECURITY.md#untrusted-models for more details). In a future release, the default value for `weights_only` will be flipped to `True`. This limits the functions that could be executed during unpickling. Arbitrary objects will no longer be allowed to be loaded via this mode unless they are explicitly allowlisted by the user via `torch.serialization.add_safe_globals`. We recommend you start setting `weights_only=True` for any use case where you don't have full control of the loaded file. Please open an issue on GitHub for any issues related to this experimental feature.\n",
      "  weights_dict = torch.load(restore_from_backbone)\n",
      "/tmp/ipykernel_21629/3832233960.py:60: FutureWarning: You are using `torch.load` with `weights_only=False` (the current default value), which uses the default pickle module implicitly. It is possible to construct malicious pickle data which will execute arbitrary code during unpickling (See https://github.com/pytorch/pytorch/blob/main/SECURITY.md#untrusted-models for more details). In a future release, the default value for `weights_only` will be flipped to `True`. This limits the functions that could be executed during unpickling. Arbitrary objects will no longer be allowed to be loaded via this mode unless they are explicitly allowlisted by the user via `torch.serialization.add_safe_globals`. We recommend you start setting `weights_only=True` for any use case where you don't have full control of the loaded file. Please open an issue on GitHub for any issues related to this experimental feature.\n",
      "  restore = torch.load(restore_from_stylefilter, map_location=lambda storage, loc: storage).module.state_dict()\n"
     ]
    },
    {
     "name": "stdout",
     "output_type": "stream",
     "text": [
      "Start Val\n"
     ]
    },
    {
     "name": "stderr",
     "output_type": "stream",
     "text": [
      "  8%|▊         | 60/800 [00:11<02:19,  5.32it/s]\n"
     ]
    },
    {
     "name": "stdout",
     "output_type": "stream",
     "text": [
      "Std = val_data_loader15\n",
      "val_psnr: 36.84, val_ssim: 0.9181\n",
      "Start Val\n"
     ]
    },
    {
     "name": "stderr",
     "output_type": "stream",
     "text": [
      "  8%|▊         | 60/800 [00:11<02:17,  5.38it/s]\n"
     ]
    },
    {
     "name": "stdout",
     "output_type": "stream",
     "text": [
      "Std = val_data_loader20\n",
      "val_psnr: 36.70, val_ssim: 0.9155\n",
      "Start Val\n"
     ]
    },
    {
     "name": "stderr",
     "output_type": "stream",
     "text": [
      "  8%|▊         | 60/800 [00:11<02:16,  5.43it/s]\n"
     ]
    },
    {
     "name": "stdout",
     "output_type": "stream",
     "text": [
      "Std = val_data_loader25\n",
      "val_psnr: 36.40, val_ssim: 0.9108\n",
      "Start Val\n"
     ]
    },
    {
     "name": "stderr",
     "output_type": "stream",
     "text": [
      "  8%|▊         | 60/800 [00:10<02:15,  5.46it/s]\n"
     ]
    },
    {
     "name": "stdout",
     "output_type": "stream",
     "text": [
      "Std = val_data_loader30\n",
      "val_psnr: 35.91, val_ssim: 0.9037\n",
      "Start Val\n"
     ]
    },
    {
     "name": "stderr",
     "output_type": "stream",
     "text": [
      "  8%|▊         | 60/800 [00:11<02:17,  5.38it/s]\n"
     ]
    },
    {
     "name": "stdout",
     "output_type": "stream",
     "text": [
      "Std = val_data_loader35\n",
      "val_psnr: 35.22, val_ssim: 0.8943\n",
      "Start Val\n"
     ]
    },
    {
     "name": "stderr",
     "output_type": "stream",
     "text": [
      "  8%|▊         | 60/800 [00:11<02:16,  5.43it/s]"
     ]
    },
    {
     "name": "stdout",
     "output_type": "stream",
     "text": [
      "Std = val_data_loader40\n",
      "val_psnr: 34.24, val_ssim: 0.8776\n"
     ]
    },
    {
     "name": "stderr",
     "output_type": "stream",
     "text": [
      "\n"
     ]
    }
   ],
   "source": [
    "run_denoise_info(\n",
    "    restore_from_stylefilter='/home/duongnhan/Chon/MWFormer/ckpt/lan4/finetune/finetuneLDCT_2/style_best_all',\n",
    "    restore_from_backbone='/home/duongnhan/Chon/MWFormer/ckpt/lan4/finetune/finetuneLDCT_2/finetune4_LDCT80000.pth',\n",
    "    save_path = '/home/duongnhan/Chon/data/result_test/test_300_range3_nov/'\n",
    ")"
   ]
  },
  {
   "cell_type": "code",
   "execution_count": 4,
   "id": "d667cfcd",
   "metadata": {},
   "outputs": [
    {
     "name": "stdout",
     "output_type": "stream",
     "text": [
      "Seed:\t19\n",
      "cuda\n"
     ]
    },
    {
     "name": "stderr",
     "output_type": "stream",
     "text": [
      "/tmp/ipykernel_16329/1073488785.py:51: FutureWarning: You are using `torch.load` with `weights_only=False` (the current default value), which uses the default pickle module implicitly. It is possible to construct malicious pickle data which will execute arbitrary code during unpickling (See https://github.com/pytorch/pytorch/blob/main/SECURITY.md#untrusted-models for more details). In a future release, the default value for `weights_only` will be flipped to `True`. This limits the functions that could be executed during unpickling. Arbitrary objects will no longer be allowed to be loaded via this mode unless they are explicitly allowlisted by the user via `torch.serialization.add_safe_globals`. We recommend you start setting `weights_only=True` for any use case where you don't have full control of the loaded file. Please open an issue on GitHub for any issues related to this experimental feature.\n",
      "  weights_dict = torch.load(restore_from_backbone)\n",
      "/tmp/ipykernel_16329/1073488785.py:58: FutureWarning: You are using `torch.load` with `weights_only=False` (the current default value), which uses the default pickle module implicitly. It is possible to construct malicious pickle data which will execute arbitrary code during unpickling (See https://github.com/pytorch/pytorch/blob/main/SECURITY.md#untrusted-models for more details). In a future release, the default value for `weights_only` will be flipped to `True`. This limits the functions that could be executed during unpickling. Arbitrary objects will no longer be allowed to be loaded via this mode unless they are explicitly allowlisted by the user via `torch.serialization.add_safe_globals`. We recommend you start setting `weights_only=True` for any use case where you don't have full control of the loaded file. Please open an issue on GitHub for any issues related to this experimental feature.\n",
      "  restore = torch.load(restore_from_stylefilter, map_location=lambda storage, loc: storage).module.state_dict()\n"
     ]
    },
    {
     "name": "stdout",
     "output_type": "stream",
     "text": [
      "Start Val\n"
     ]
    },
    {
     "name": "stderr",
     "output_type": "stream",
     "text": [
      "  8%|▊         | 60/800 [00:11<02:17,  5.38it/s]\n"
     ]
    },
    {
     "name": "stdout",
     "output_type": "stream",
     "text": [
      "Std = val_data_loader15\n",
      "val_psnr: 38.87, val_ssim: 0.9295\n",
      "Start Val\n"
     ]
    },
    {
     "name": "stderr",
     "output_type": "stream",
     "text": [
      "  8%|▊         | 60/800 [00:11<02:17,  5.39it/s]\n"
     ]
    },
    {
     "name": "stdout",
     "output_type": "stream",
     "text": [
      "Std = val_data_loader20\n",
      "val_psnr: 38.44, val_ssim: 0.9248\n",
      "Start Val\n"
     ]
    },
    {
     "name": "stderr",
     "output_type": "stream",
     "text": [
      "  8%|▊         | 60/800 [00:10<02:15,  5.46it/s]\n"
     ]
    },
    {
     "name": "stdout",
     "output_type": "stream",
     "text": [
      "Std = val_data_loader25\n",
      "val_psnr: 37.97, val_ssim: 0.9207\n",
      "Start Val\n"
     ]
    },
    {
     "name": "stderr",
     "output_type": "stream",
     "text": [
      "  8%|▊         | 60/800 [00:11<02:17,  5.37it/s]\n"
     ]
    },
    {
     "name": "stdout",
     "output_type": "stream",
     "text": [
      "Std = val_data_loader30\n",
      "val_psnr: 37.44, val_ssim: 0.9159\n",
      "Start Val\n"
     ]
    },
    {
     "name": "stderr",
     "output_type": "stream",
     "text": [
      "  8%|▊         | 60/800 [00:11<02:16,  5.41it/s]\n"
     ]
    },
    {
     "name": "stdout",
     "output_type": "stream",
     "text": [
      "Std = val_data_loader35\n",
      "val_psnr: 36.84, val_ssim: 0.9099\n",
      "Start Val\n"
     ]
    },
    {
     "name": "stderr",
     "output_type": "stream",
     "text": [
      "  8%|▊         | 60/800 [00:11<02:17,  5.40it/s]"
     ]
    },
    {
     "name": "stdout",
     "output_type": "stream",
     "text": [
      "Std = val_data_loader40\n",
      "val_psnr: 36.00, val_ssim: 0.8998\n"
     ]
    },
    {
     "name": "stderr",
     "output_type": "stream",
     "text": [
      "\n"
     ]
    }
   ],
   "source": [
    "run_denoise_info(\n",
    "    restore_from_stylefilter='/home/duongnhan/Chon/MWFormer/ckpt/lan4/finetune/finetuneLDCT_2/style_best_all',\n",
    "    restore_from_backbone='/home/duongnhan/Chon/MWFormer/ckpt/lan4/finetune/finetuneLDCT_2/finetune4_LDCT80000.pth',\n",
    "    save_path = '/home/duongnhan/Chon/data/result_test/test_300_range3/'\n",
    ")"
   ]
  },
  {
   "cell_type": "code",
   "execution_count": null,
   "id": "25416227",
   "metadata": {},
   "outputs": [],
   "source": [
    "val_psnr3 = [38.87, 38.44, 37.97, 37.44, 36.84, 36.00]\n",
    "\n",
    "val_ssim_3 = [0.9295, 0.9248, 0.9207, 0.9159, 0.9099, 0.8998]"
   ]
  },
  {
   "cell_type": "code",
   "execution_count": 5,
   "id": "2491b80b",
   "metadata": {},
   "outputs": [
    {
     "name": "stdout",
     "output_type": "stream",
     "text": [
      "Seed:\t19\n",
      "cuda\n"
     ]
    },
    {
     "name": "stderr",
     "output_type": "stream",
     "text": [
      "/tmp/ipykernel_21629/3832233960.py:51: FutureWarning: You are using `torch.load` with `weights_only=False` (the current default value), which uses the default pickle module implicitly. It is possible to construct malicious pickle data which will execute arbitrary code during unpickling (See https://github.com/pytorch/pytorch/blob/main/SECURITY.md#untrusted-models for more details). In a future release, the default value for `weights_only` will be flipped to `True`. This limits the functions that could be executed during unpickling. Arbitrary objects will no longer be allowed to be loaded via this mode unless they are explicitly allowlisted by the user via `torch.serialization.add_safe_globals`. We recommend you start setting `weights_only=True` for any use case where you don't have full control of the loaded file. Please open an issue on GitHub for any issues related to this experimental feature.\n",
      "  weights_dict = torch.load(restore_from_backbone)\n",
      "/tmp/ipykernel_21629/3832233960.py:60: FutureWarning: You are using `torch.load` with `weights_only=False` (the current default value), which uses the default pickle module implicitly. It is possible to construct malicious pickle data which will execute arbitrary code during unpickling (See https://github.com/pytorch/pytorch/blob/main/SECURITY.md#untrusted-models for more details). In a future release, the default value for `weights_only` will be flipped to `True`. This limits the functions that could be executed during unpickling. Arbitrary objects will no longer be allowed to be loaded via this mode unless they are explicitly allowlisted by the user via `torch.serialization.add_safe_globals`. We recommend you start setting `weights_only=True` for any use case where you don't have full control of the loaded file. Please open an issue on GitHub for any issues related to this experimental feature.\n",
      "  restore = torch.load(restore_from_stylefilter, map_location=lambda storage, loc: storage).module.state_dict()\n"
     ]
    },
    {
     "name": "stdout",
     "output_type": "stream",
     "text": [
      "Start Val\n"
     ]
    },
    {
     "name": "stderr",
     "output_type": "stream",
     "text": [
      "  8%|▊         | 60/800 [00:11<02:17,  5.40it/s]\n"
     ]
    },
    {
     "name": "stdout",
     "output_type": "stream",
     "text": [
      "Std = val_data_loader15\n",
      "val_psnr: 36.66, val_ssim: 0.9173\n",
      "Start Val\n"
     ]
    },
    {
     "name": "stderr",
     "output_type": "stream",
     "text": [
      "  8%|▊         | 60/800 [00:11<02:20,  5.25it/s]\n"
     ]
    },
    {
     "name": "stdout",
     "output_type": "stream",
     "text": [
      "Std = val_data_loader20\n",
      "val_psnr: 36.18, val_ssim: 0.9103\n",
      "Start Val\n"
     ]
    },
    {
     "name": "stderr",
     "output_type": "stream",
     "text": [
      "  8%|▊         | 60/800 [00:11<02:16,  5.43it/s]\n"
     ]
    },
    {
     "name": "stdout",
     "output_type": "stream",
     "text": [
      "Std = val_data_loader25\n",
      "val_psnr: 35.49, val_ssim: 0.9016\n",
      "Start Val\n"
     ]
    },
    {
     "name": "stderr",
     "output_type": "stream",
     "text": [
      "  8%|▊         | 60/800 [00:11<02:16,  5.42it/s]\n"
     ]
    },
    {
     "name": "stdout",
     "output_type": "stream",
     "text": [
      "Std = val_data_loader30\n",
      "val_psnr: 34.56, val_ssim: 0.8893\n",
      "Start Val\n"
     ]
    },
    {
     "name": "stderr",
     "output_type": "stream",
     "text": [
      "  8%|▊         | 60/800 [00:11<02:17,  5.39it/s]\n"
     ]
    },
    {
     "name": "stdout",
     "output_type": "stream",
     "text": [
      "Std = val_data_loader35\n",
      "val_psnr: 33.43, val_ssim: 0.8705\n",
      "Start Val\n"
     ]
    },
    {
     "name": "stderr",
     "output_type": "stream",
     "text": [
      "  8%|▊         | 60/800 [00:11<02:16,  5.42it/s]"
     ]
    },
    {
     "name": "stdout",
     "output_type": "stream",
     "text": [
      "Std = val_data_loader40\n",
      "val_psnr: 32.19, val_ssim: 0.8395\n"
     ]
    },
    {
     "name": "stderr",
     "output_type": "stream",
     "text": [
      "\n"
     ]
    }
   ],
   "source": [
    "run_denoise_info(\n",
    "    restore_from_stylefilter='/home/duongnhan/Chon/MWFormer/ckpt/lan4/finetune/finetune1/style_best_all',\n",
    "    restore_from_backbone='/home/duongnhan/Chon/MWFormer/ckpt/lan4/finetune/finetune1/finetune4_1190000.pth',\n",
    "    save_path = '/home/duongnhan/Chon/data/result_test/test_300_range1_nov/'\n",
    ")"
   ]
  },
  {
   "cell_type": "code",
   "execution_count": null,
   "id": "db95a0d8",
   "metadata": {},
   "outputs": [],
   "source": [
    "\n",
    "val_psnr3 = [38.39, 37.78, 37.15, 36.48, 35.73, 34.77]\n",
    "\n",
    "val_ssim_3 = [0.9286, 0.9220, 0.9158, 0.9088, 0.9000, 0.8833]\n",
    "\n",
    "\n"
   ]
  },
  {
   "cell_type": "code",
   "execution_count": 10,
   "id": "cc460762",
   "metadata": {},
   "outputs": [
    {
     "name": "stdout",
     "output_type": "stream",
     "text": [
      "Seed:\t19\n",
      "cuda\n"
     ]
    },
    {
     "name": "stderr",
     "output_type": "stream",
     "text": [
      "/tmp/ipykernel_93215/2184607889.py:51: FutureWarning: You are using `torch.load` with `weights_only=False` (the current default value), which uses the default pickle module implicitly. It is possible to construct malicious pickle data which will execute arbitrary code during unpickling (See https://github.com/pytorch/pytorch/blob/main/SECURITY.md#untrusted-models for more details). In a future release, the default value for `weights_only` will be flipped to `True`. This limits the functions that could be executed during unpickling. Arbitrary objects will no longer be allowed to be loaded via this mode unless they are explicitly allowlisted by the user via `torch.serialization.add_safe_globals`. We recommend you start setting `weights_only=True` for any use case where you don't have full control of the loaded file. Please open an issue on GitHub for any issues related to this experimental feature.\n",
      "  weights_dict = torch.load(restore_from_backbone)\n",
      "/tmp/ipykernel_93215/2184607889.py:58: FutureWarning: You are using `torch.load` with `weights_only=False` (the current default value), which uses the default pickle module implicitly. It is possible to construct malicious pickle data which will execute arbitrary code during unpickling (See https://github.com/pytorch/pytorch/blob/main/SECURITY.md#untrusted-models for more details). In a future release, the default value for `weights_only` will be flipped to `True`. This limits the functions that could be executed during unpickling. Arbitrary objects will no longer be allowed to be loaded via this mode unless they are explicitly allowlisted by the user via `torch.serialization.add_safe_globals`. We recommend you start setting `weights_only=True` for any use case where you don't have full control of the loaded file. Please open an issue on GitHub for any issues related to this experimental feature.\n",
      "  restore = torch.load(restore_from_stylefilter, map_location=lambda storage, loc: storage).module.state_dict()\n"
     ]
    },
    {
     "name": "stdout",
     "output_type": "stream",
     "text": [
      "Start Val\n"
     ]
    },
    {
     "name": "stderr",
     "output_type": "stream",
     "text": [
      "  8%|▊         | 60/800 [00:10<02:05,  5.91it/s]\n"
     ]
    },
    {
     "name": "stdout",
     "output_type": "stream",
     "text": [
      "Std = val_data_loader15\n",
      "val_psnr: 38.43, val_ssim: 0.9297\n",
      "Start Val\n"
     ]
    },
    {
     "name": "stderr",
     "output_type": "stream",
     "text": [
      "  8%|▊         | 60/800 [00:10<02:04,  5.94it/s]\n"
     ]
    },
    {
     "name": "stdout",
     "output_type": "stream",
     "text": [
      "Std = val_data_loader20\n",
      "val_psnr: 37.84, val_ssim: 0.9235\n",
      "Start Val\n"
     ]
    },
    {
     "name": "stderr",
     "output_type": "stream",
     "text": [
      "  8%|▊         | 60/800 [00:10<02:05,  5.92it/s]\n"
     ]
    },
    {
     "name": "stdout",
     "output_type": "stream",
     "text": [
      "Std = val_data_loader25\n",
      "val_psnr: 37.19, val_ssim: 0.9169\n",
      "Start Val\n"
     ]
    },
    {
     "name": "stderr",
     "output_type": "stream",
     "text": [
      "  8%|▊         | 60/800 [00:10<02:07,  5.82it/s]\n"
     ]
    },
    {
     "name": "stdout",
     "output_type": "stream",
     "text": [
      "Std = val_data_loader30\n",
      "val_psnr: 36.55, val_ssim: 0.9102\n",
      "Start Val\n"
     ]
    },
    {
     "name": "stderr",
     "output_type": "stream",
     "text": [
      "  8%|▊         | 60/800 [00:10<02:04,  5.94it/s]\n"
     ]
    },
    {
     "name": "stdout",
     "output_type": "stream",
     "text": [
      "Std = val_data_loader35\n",
      "val_psnr: 35.82, val_ssim: 0.9019\n",
      "Start Val\n"
     ]
    },
    {
     "name": "stderr",
     "output_type": "stream",
     "text": [
      "  8%|▊         | 60/800 [00:09<02:02,  6.02it/s]\n"
     ]
    },
    {
     "name": "stdout",
     "output_type": "stream",
     "text": [
      "Std = val_data_loader40\n",
      "val_psnr: 34.87, val_ssim: 0.8877\n"
     ]
    }
   ],
   "source": [
    "run_denoise_info(\n",
    "    restore_from_stylefilter='/home/duongnhan/Chon/MWFormer/ckpt/lan4/finetune/finetune3/style_best_all',\n",
    "    restore_from_backbone='/home/duongnhan/Chon/MWFormer/ckpt/lan4/finetune/finetune3/finetune4_3190000.pth',\n",
    "    save_path = '/home/duongnhan/Chon/data/result_test/test_200_chuan/'\n",
    ")"
   ]
  },
  {
   "cell_type": "code",
   "execution_count": 1,
   "id": "7ce25615",
   "metadata": {},
   "outputs": [
    {
     "name": "stderr",
     "output_type": "stream",
     "text": [
      "/home/duongnhan/miniconda3/envs/capstone/lib/python3.10/site-packages/tqdm/auto.py:21: TqdmWarning: IProgress not found. Please update jupyter and ipywidgets. See https://ipywidgets.readthedocs.io/en/stable/user_install.html\n",
      "  from .autonotebook import tqdm as notebook_tqdm\n",
      "/home/duongnhan/miniconda3/envs/capstone/lib/python3.10/site-packages/timm/models/layers/__init__.py:48: FutureWarning: Importing from timm.models.layers is deprecated, please import via timm.layers\n",
      "  warnings.warn(f\"Importing from {__name__} is deprecated, please import via timm.layers\", FutureWarning)\n",
      "/home/duongnhan/miniconda3/envs/capstone/lib/python3.10/site-packages/mmcv/__init__.py:20: UserWarning: On January 1, 2023, MMCV will release v2.0.0, in which it will remove components related to the training process and add a data transformation module. In addition, it will rename the package names mmcv to mmcv-lite and mmcv-full to mmcv. See https://github.com/open-mmlab/mmcv/blob/master/docs/en/compatibility.md for more details.\n",
      "  warnings.warn(\n"
     ]
    }
   ],
   "source": [
    "\n",
    "import os\n",
    "import time\n",
    "import torch\n",
    "import torch.nn as nn\n",
    "from torch.utils.data import DataLoader\n",
    "from MWFormer.val_data_functions import ValData\n",
    "from MWFormer.utils_val import validation_stylevec, validation_stylevec2, validation_stylevec_nones1, validation_stylevec_savef\n",
    "import numpy as np\n",
    "import random\n",
    "from MWFormer.model.EncDec import Network_top    #default\n",
    "# from MWFormer.model.style_filter64 import StyleFilter_Top\n",
    "import sys\n",
    "\n",
    "def run_denoise_noS1(\n",
    "    val_batch_size=1,\n",
    "    seed=19,\n",
    "    restore_from_stylefilter='/home/duongnhan/Chon/MWFormer/ckpt/lan4/finetune/finetuneLDCT_2/style_best_all',\n",
    "    restore_from_backbone='/home/duongnhan/Chon/MWFormer/ckpt/lan4/finetune/finetuneLDCT_2/finetune4_LDCT80000.pth',\n",
    "    val_data_dir='/home/duongnhan/Chon/Capstone_project/Backend/MWFormer/data/bew/',\n",
    "    val_filename='CT.txt',\n",
    "    save_path = ''\n",
    "):\n",
    "    # Set seed\n",
    "    if seed is not None:\n",
    "        np.random.seed(seed)\n",
    "        torch.manual_seed(seed)\n",
    "        torch.cuda.manual_seed(seed)\n",
    "        random.seed(seed) \n",
    "        print('Seed:\\t{}'.format(seed))\n",
    "\n",
    "    device_ids = [Id for Id in range(torch.cuda.device_count())]\n",
    "    device = torch.device(\"cuda\" if torch.cuda.is_available() else \"cpu\")\n",
    "    print(device)\n",
    "\n",
    "    data_dir15 = '/home/duongnhan/Chon/data/test_200/15/'\n",
    "    data_dir20 = '/home/duongnhan/Chon/data/test_200/20/'\n",
    "    data_dir25 = '/home/duongnhan/Chon/data/test_200/25/'\n",
    "    data_dir30 = '/home/duongnhan/Chon/data/test_200/30/'\n",
    "    data_dir35 = '/home/duongnhan/Chon/data/test_200/35/'\n",
    "    data_dir40 = '/home/duongnhan/Chon/data/test_200/40/'\n",
    "    val_data_loader15 = DataLoader(ValData(data_dir15, val_filename), batch_size=val_batch_size, shuffle=False, num_workers=8 )\n",
    "    val_data_loader20 = DataLoader(ValData(data_dir20, val_filename), batch_size=val_batch_size, shuffle=False, num_workers=8 )\n",
    "    val_data_loader25 = DataLoader(ValData(data_dir25, val_filename), batch_size=val_batch_size, shuffle=False, num_workers=8 )\n",
    "    val_data_loader30 = DataLoader(ValData(data_dir30, val_filename), batch_size=val_batch_size, shuffle=False, num_workers=8 )\n",
    "    val_data_loader35 = DataLoader(ValData(data_dir35, val_filename), batch_size=val_batch_size, shuffle=False, num_workers=8 )\n",
    "    val_data_loader40 = DataLoader(ValData(data_dir40, val_filename), batch_size=val_batch_size, shuffle=False, num_workers=8 )\n",
    "\n",
    "    net = Network_top().to(device)\n",
    "    net = nn.DataParallel(net, device_ids=device_ids)\n",
    "\n",
    "    weights_dict = torch.load(restore_from_backbone)\n",
    "    net.load_state_dict(weights_dict)\n",
    "    net.eval()\n",
    "\n",
    "    # StyleFilter = StyleFilter_Top().to(device)\n",
    "    # StyleFilter = nn.DataParallel(StyleFilter, device_ids=device_ids)\n",
    "\n",
    "    # restore = torch.load(restore_from_stylefilter, map_location=lambda storage, loc: storage).module.state_dict()\n",
    "    # weights_dict = {}\n",
    "    # for k, v in restore.items():\n",
    "    #     new_k = 'module.' + k\n",
    "    #     weights_dict[new_k] = v\n",
    "\n",
    "    # StyleFilter.load_state_dict(weights_dict)\n",
    "    # for param in StyleFilter.parameters():\n",
    "    #     param.requires_grad = False\n",
    "    # StyleFilter.eval()\n",
    "\n",
    "    test_levels = [15, 20, 25, 30, 35, 40]\n",
    "    val_data_loaders = {\n",
    "        15: val_data_loader15,\n",
    "        20: val_data_loader20,\n",
    "        25: val_data_loader25,\n",
    "        30: val_data_loader30,\n",
    "        35: val_data_loader35,\n",
    "        40: val_data_loader40\n",
    "    }\n",
    "\n",
    "    with torch.no_grad():\n",
    "        for level in test_levels:\n",
    "            loader = val_data_loaders[level]\n",
    "            # save_dir = '/home/duongnhan/Chon/data/test'\n",
    "            save_dir = os.path.join(save_path, f\"level_{level}\")\n",
    "            val_psnr, val_ssim = validation_stylevec_nones1( net, loader, device, save_dir)\n",
    "            print(f\"Std = val_data_loader{level}\")\n",
    "            print(f\"val_psnr: {val_psnr:.2f}, val_ssim: {val_ssim:.4f}\")\n",
    "\n",
    "\n",
    "    # return val_psnr, val_ssim"
   ]
  },
  {
   "cell_type": "code",
   "execution_count": 2,
   "id": "e1431211",
   "metadata": {},
   "outputs": [
    {
     "name": "stdout",
     "output_type": "stream",
     "text": [
      "Seed:\t19\n",
      "cuda\n"
     ]
    },
    {
     "name": "stderr",
     "output_type": "stream",
     "text": [
      "/tmp/ipykernel_16329/626003577.py:51: FutureWarning: You are using `torch.load` with `weights_only=False` (the current default value), which uses the default pickle module implicitly. It is possible to construct malicious pickle data which will execute arbitrary code during unpickling (See https://github.com/pytorch/pytorch/blob/main/SECURITY.md#untrusted-models for more details). In a future release, the default value for `weights_only` will be flipped to `True`. This limits the functions that could be executed during unpickling. Arbitrary objects will no longer be allowed to be loaded via this mode unless they are explicitly allowlisted by the user via `torch.serialization.add_safe_globals`. We recommend you start setting `weights_only=True` for any use case where you don't have full control of the loaded file. Please open an issue on GitHub for any issues related to this experimental feature.\n",
      "  weights_dict = torch.load(restore_from_backbone)\n"
     ]
    },
    {
     "name": "stdout",
     "output_type": "stream",
     "text": [
      "Start Val\n"
     ]
    },
    {
     "name": "stderr",
     "output_type": "stream",
     "text": [
      "  8%|▊         | 60/800 [00:10<02:07,  5.81it/s]\n"
     ]
    },
    {
     "name": "stdout",
     "output_type": "stream",
     "text": [
      "Std = val_data_loader15\n",
      "val_psnr: 26.55, val_ssim: 0.6034\n",
      "Start Val\n"
     ]
    },
    {
     "name": "stderr",
     "output_type": "stream",
     "text": [
      "  8%|▊         | 60/800 [00:09<02:01,  6.09it/s]\n"
     ]
    },
    {
     "name": "stdout",
     "output_type": "stream",
     "text": [
      "Std = val_data_loader20\n",
      "val_psnr: 24.67, val_ssim: 0.5019\n",
      "Start Val\n"
     ]
    },
    {
     "name": "stderr",
     "output_type": "stream",
     "text": [
      "  8%|▊         | 60/800 [00:09<02:03,  6.00it/s]\n"
     ]
    },
    {
     "name": "stdout",
     "output_type": "stream",
     "text": [
      "Std = val_data_loader25\n",
      "val_psnr: 23.02, val_ssim: 0.4194\n",
      "Start Val\n"
     ]
    },
    {
     "name": "stderr",
     "output_type": "stream",
     "text": [
      "  8%|▊         | 60/800 [00:09<01:59,  6.19it/s]\n"
     ]
    },
    {
     "name": "stdout",
     "output_type": "stream",
     "text": [
      "Std = val_data_loader30\n",
      "val_psnr: 21.57, val_ssim: 0.3535\n",
      "Start Val\n"
     ]
    },
    {
     "name": "stderr",
     "output_type": "stream",
     "text": [
      "  8%|▊         | 60/800 [00:09<01:57,  6.31it/s]\n"
     ]
    },
    {
     "name": "stdout",
     "output_type": "stream",
     "text": [
      "Std = val_data_loader35\n",
      "val_psnr: 20.29, val_ssim: 0.3006\n",
      "Start Val\n"
     ]
    },
    {
     "name": "stderr",
     "output_type": "stream",
     "text": [
      "  8%|▊         | 60/800 [00:10<02:04,  5.95it/s]"
     ]
    },
    {
     "name": "stdout",
     "output_type": "stream",
     "text": [
      "Std = val_data_loader40\n",
      "val_psnr: 19.16, val_ssim: 0.2578\n"
     ]
    },
    {
     "name": "stderr",
     "output_type": "stream",
     "text": [
      "\n"
     ]
    }
   ],
   "source": [
    "run_denoise_noS1(\n",
    "    restore_from_backbone='/home/duongnhan/Chon/MWFormer/ckpt/lan4/finetune/finetune3/finetune4_3190000.pth',\n",
    "    save_path = '/home/duongnhan/Chon/data/result_test/test_200_noS1/'\n",
    ")"
   ]
  },
  {
   "cell_type": "code",
   "execution_count": 1,
   "id": "e314a3d6",
   "metadata": {},
   "outputs": [
    {
     "name": "stderr",
     "output_type": "stream",
     "text": [
      "/home/duongnhan/miniconda3/envs/capstone/lib/python3.10/site-packages/tqdm/auto.py:21: TqdmWarning: IProgress not found. Please update jupyter and ipywidgets. See https://ipywidgets.readthedocs.io/en/stable/user_install.html\n",
      "  from .autonotebook import tqdm as notebook_tqdm\n",
      "/home/duongnhan/miniconda3/envs/capstone/lib/python3.10/site-packages/timm/models/layers/__init__.py:48: FutureWarning: Importing from timm.models.layers is deprecated, please import via timm.layers\n",
      "  warnings.warn(f\"Importing from {__name__} is deprecated, please import via timm.layers\", FutureWarning)\n",
      "/home/duongnhan/miniconda3/envs/capstone/lib/python3.10/site-packages/mmcv/__init__.py:20: UserWarning: On January 1, 2023, MMCV will release v2.0.0, in which it will remove components related to the training process and add a data transformation module. In addition, it will rename the package names mmcv to mmcv-lite and mmcv-full to mmcv. See https://github.com/open-mmlab/mmcv/blob/master/docs/en/compatibility.md for more details.\n",
      "  warnings.warn(\n"
     ]
    }
   ],
   "source": [
    "\n",
    "import os\n",
    "import time\n",
    "import torch\n",
    "import torch.nn as nn\n",
    "from torch.utils.data import DataLoader\n",
    "from MWFormer.val_data_functions import ValData\n",
    "from MWFormer.utils_val import validation_stylevec, validation_stylevec2, validation_stylevec3, validation_stylevec_savef\n",
    "import numpy as np\n",
    "import random\n",
    "from MWFormer.model.EncDec import Network_top    #default\n",
    "from MWFormer.model.style_filter64 import StyleFilter_Top\n",
    "import sys\n",
    "\n",
    "def run_denoise_LDCT(\n",
    "    val_batch_size=1,\n",
    "    seed=19,\n",
    "    restore_from_stylefilter='/home/duongnhan/Chon/MWFormer/ckpt/lan4/finetune/finetuneLDCT_2/style_best_all',\n",
    "    restore_from_backbone='/home/duongnhan/Chon/MWFormer/ckpt/lan4/finetune/finetuneLDCT_2/finetune4_LDCT80000.pth',\n",
    "    val_data_dir='/home/duongnhan/Chon/data/test/LDCT/L506/',\n",
    "    val_filename='CT.txt',\n",
    "    save_path = '/home/duongnhan/Chon/data/result_test/LDCT/L506/'\n",
    "):\n",
    "    # Set seed\n",
    "    if seed is not None:\n",
    "        np.random.seed(seed)\n",
    "        torch.manual_seed(seed)\n",
    "        torch.cuda.manual_seed(seed)\n",
    "        random.seed(seed) \n",
    "        print('Seed:\\t{}'.format(seed))\n",
    "\n",
    "    device_ids = [Id for Id in range(torch.cuda.device_count())]\n",
    "    device = torch.device(\"cuda\" if torch.cuda.is_available() else \"cpu\")\n",
    "    print(device)\n",
    "\n",
    "    val_data_loader = DataLoader(ValData(val_data_dir, val_filename), batch_size=val_batch_size, shuffle=False, num_workers=8 )\n",
    "\n",
    "    net = Network_top().to(device)\n",
    "    net = nn.DataParallel(net, device_ids=device_ids)\n",
    "\n",
    "    weights_dict = torch.load(restore_from_backbone)\n",
    "    net.load_state_dict(weights_dict)\n",
    "    net.eval()\n",
    "\n",
    "    StyleFilter = StyleFilter_Top().to(device)\n",
    "    StyleFilter = nn.DataParallel(StyleFilter, device_ids=device_ids)\n",
    "\n",
    "    restore = torch.load(restore_from_stylefilter, map_location=lambda storage, loc: storage).module.state_dict()\n",
    "    weights_dict = {}\n",
    "    for k, v in restore.items():\n",
    "        new_k = 'module.' + k\n",
    "        weights_dict[new_k] = v\n",
    "\n",
    "    StyleFilter.load_state_dict(weights_dict)\n",
    "    for param in StyleFilter.parameters():\n",
    "        param.requires_grad = False\n",
    "    StyleFilter.eval()\n",
    "\n",
    "    with torch.no_grad():\n",
    "        val_psnr, val_ssim = validation_stylevec_savef(StyleFilter, net, val_data_loader, device, save_path)\n",
    "        # print(f\"Std = val_data_loader: \")\n",
    "        print(f\"val_psnr: {val_psnr:.2f}, val_ssim: {val_ssim:.4f}\")\n",
    "            \n",
    "\n",
    "\n",
    "    # return val_psnr, val_ssim"
   ]
  },
  {
   "cell_type": "code",
   "execution_count": 2,
   "id": "cd16826b",
   "metadata": {},
   "outputs": [
    {
     "name": "stdout",
     "output_type": "stream",
     "text": [
      "Seed:\t19\n",
      "cuda\n"
     ]
    },
    {
     "name": "stderr",
     "output_type": "stream",
     "text": [
      "/tmp/ipykernel_762482/3025675255.py:40: FutureWarning: You are using `torch.load` with `weights_only=False` (the current default value), which uses the default pickle module implicitly. It is possible to construct malicious pickle data which will execute arbitrary code during unpickling (See https://github.com/pytorch/pytorch/blob/main/SECURITY.md#untrusted-models for more details). In a future release, the default value for `weights_only` will be flipped to `True`. This limits the functions that could be executed during unpickling. Arbitrary objects will no longer be allowed to be loaded via this mode unless they are explicitly allowlisted by the user via `torch.serialization.add_safe_globals`. We recommend you start setting `weights_only=True` for any use case where you don't have full control of the loaded file. Please open an issue on GitHub for any issues related to this experimental feature.\n",
      "  weights_dict = torch.load(restore_from_backbone)\n",
      "/tmp/ipykernel_762482/3025675255.py:47: FutureWarning: You are using `torch.load` with `weights_only=False` (the current default value), which uses the default pickle module implicitly. It is possible to construct malicious pickle data which will execute arbitrary code during unpickling (See https://github.com/pytorch/pytorch/blob/main/SECURITY.md#untrusted-models for more details). In a future release, the default value for `weights_only` will be flipped to `True`. This limits the functions that could be executed during unpickling. Arbitrary objects will no longer be allowed to be loaded via this mode unless they are explicitly allowlisted by the user via `torch.serialization.add_safe_globals`. We recommend you start setting `weights_only=True` for any use case where you don't have full control of the loaded file. Please open an issue on GitHub for any issues related to this experimental feature.\n",
      "  restore = torch.load(restore_from_stylefilter, map_location=lambda storage, loc: storage).module.state_dict()\n"
     ]
    },
    {
     "name": "stdout",
     "output_type": "stream",
     "text": [
      "Start Val\n"
     ]
    },
    {
     "name": "stderr",
     "output_type": "stream",
     "text": [
      "100%|██████████| 4/4 [00:01<00:00,  2.40it/s]\n"
     ]
    },
    {
     "name": "stdout",
     "output_type": "stream",
     "text": [
      "val_psnr: 31.93, val_ssim: 0.9050\n"
     ]
    }
   ],
   "source": [
    "#test l506\n",
    "run_denoise_LDCT()"
   ]
  },
  {
   "cell_type": "code",
   "execution_count": 3,
   "id": "3119f9d4",
   "metadata": {},
   "outputs": [
    {
     "name": "stdout",
     "output_type": "stream",
     "text": [
      "Seed:\t19\n",
      "cuda\n"
     ]
    },
    {
     "name": "stderr",
     "output_type": "stream",
     "text": [
      "/tmp/ipykernel_762482/3025675255.py:40: FutureWarning: You are using `torch.load` with `weights_only=False` (the current default value), which uses the default pickle module implicitly. It is possible to construct malicious pickle data which will execute arbitrary code during unpickling (See https://github.com/pytorch/pytorch/blob/main/SECURITY.md#untrusted-models for more details). In a future release, the default value for `weights_only` will be flipped to `True`. This limits the functions that could be executed during unpickling. Arbitrary objects will no longer be allowed to be loaded via this mode unless they are explicitly allowlisted by the user via `torch.serialization.add_safe_globals`. We recommend you start setting `weights_only=True` for any use case where you don't have full control of the loaded file. Please open an issue on GitHub for any issues related to this experimental feature.\n",
      "  weights_dict = torch.load(restore_from_backbone)\n",
      "/tmp/ipykernel_762482/3025675255.py:47: FutureWarning: You are using `torch.load` with `weights_only=False` (the current default value), which uses the default pickle module implicitly. It is possible to construct malicious pickle data which will execute arbitrary code during unpickling (See https://github.com/pytorch/pytorch/blob/main/SECURITY.md#untrusted-models for more details). In a future release, the default value for `weights_only` will be flipped to `True`. This limits the functions that could be executed during unpickling. Arbitrary objects will no longer be allowed to be loaded via this mode unless they are explicitly allowlisted by the user via `torch.serialization.add_safe_globals`. We recommend you start setting `weights_only=True` for any use case where you don't have full control of the loaded file. Please open an issue on GitHub for any issues related to this experimental feature.\n",
      "  restore = torch.load(restore_from_stylefilter, map_location=lambda storage, loc: storage).module.state_dict()\n"
     ]
    },
    {
     "name": "stdout",
     "output_type": "stream",
     "text": [
      "Start Val\n"
     ]
    },
    {
     "name": "stderr",
     "output_type": "stream",
     "text": [
      "100%|██████████| 4/4 [00:00<00:00,  4.25it/s]\n"
     ]
    },
    {
     "name": "stdout",
     "output_type": "stream",
     "text": [
      "val_psnr: 31.42, val_ssim: 0.9004\n"
     ]
    }
   ],
   "source": [
    "#test l506\n",
    "run_denoise_LDCT(\n",
    "    val_data_dir='/home/duongnhan/Chon/data/result_test/LDCT/L506/',\n",
    "    val_filename='CT.txt',\n",
    "    save_path = '/home/duongnhan/Chon/data/result_test/LDCT/L506_2/'\n",
    ")"
   ]
  },
  {
   "cell_type": "code",
   "execution_count": null,
   "id": "04a5ba6f",
   "metadata": {},
   "outputs": [
    {
     "name": "stdout",
     "output_type": "stream",
     "text": [
      "Seed:\t19\n",
      "cuda\n"
     ]
    },
    {
     "name": "stderr",
     "output_type": "stream",
     "text": [
      "/tmp/ipykernel_3639/267945426.py:40: FutureWarning: You are using `torch.load` with `weights_only=False` (the current default value), which uses the default pickle module implicitly. It is possible to construct malicious pickle data which will execute arbitrary code during unpickling (See https://github.com/pytorch/pytorch/blob/main/SECURITY.md#untrusted-models for more details). In a future release, the default value for `weights_only` will be flipped to `True`. This limits the functions that could be executed during unpickling. Arbitrary objects will no longer be allowed to be loaded via this mode unless they are explicitly allowlisted by the user via `torch.serialization.add_safe_globals`. We recommend you start setting `weights_only=True` for any use case where you don't have full control of the loaded file. Please open an issue on GitHub for any issues related to this experimental feature.\n",
      "  weights_dict = torch.load(restore_from_backbone)\n",
      "/tmp/ipykernel_3639/267945426.py:47: FutureWarning: You are using `torch.load` with `weights_only=False` (the current default value), which uses the default pickle module implicitly. It is possible to construct malicious pickle data which will execute arbitrary code during unpickling (See https://github.com/pytorch/pytorch/blob/main/SECURITY.md#untrusted-models for more details). In a future release, the default value for `weights_only` will be flipped to `True`. This limits the functions that could be executed during unpickling. Arbitrary objects will no longer be allowed to be loaded via this mode unless they are explicitly allowlisted by the user via `torch.serialization.add_safe_globals`. We recommend you start setting `weights_only=True` for any use case where you don't have full control of the loaded file. Please open an issue on GitHub for any issues related to this experimental feature.\n",
      "  restore = torch.load(restore_from_stylefilter, map_location=lambda storage, loc: storage).module.state_dict()\n"
     ]
    },
    {
     "name": "stdout",
     "output_type": "stream",
     "text": [
      "Start Val\n"
     ]
    },
    {
     "name": "stderr",
     "output_type": "stream",
     "text": [
      " 17%|█▋        | 60/343 [00:10<00:51,  5.47it/s]"
     ]
    },
    {
     "name": "stdout",
     "output_type": "stream",
     "text": [
      "val_psnr: 33.81, val_ssim: 0.8488\n"
     ]
    },
    {
     "name": "stderr",
     "output_type": "stream",
     "text": [
      "\n"
     ]
    }
   ],
   "source": [
    "run_denoise_LDCT()"
   ]
  },
  {
   "cell_type": "code",
   "execution_count": 14,
   "id": "584aac2f",
   "metadata": {},
   "outputs": [
    {
     "name": "stdout",
     "output_type": "stream",
     "text": [
      "Seed:\t19\n",
      "cuda\n"
     ]
    },
    {
     "name": "stderr",
     "output_type": "stream",
     "text": [
      "/home/duongnhan/Chon/Capstone_project/Backend/rundenoise.py:118: FutureWarning: You are using `torch.load` with `weights_only=False` (the current default value), which uses the default pickle module implicitly. It is possible to construct malicious pickle data which will execute arbitrary code during unpickling (See https://github.com/pytorch/pytorch/blob/main/SECURITY.md#untrusted-models for more details). In a future release, the default value for `weights_only` will be flipped to `True`. This limits the functions that could be executed during unpickling. Arbitrary objects will no longer be allowed to be loaded via this mode unless they are explicitly allowlisted by the user via `torch.serialization.add_safe_globals`. We recommend you start setting `weights_only=True` for any use case where you don't have full control of the loaded file. Please open an issue on GitHub for any issues related to this experimental feature.\n",
      "  weights_dict = torch.load(restore_from_backbone)\n",
      "/home/duongnhan/Chon/Capstone_project/Backend/rundenoise.py:125: FutureWarning: You are using `torch.load` with `weights_only=False` (the current default value), which uses the default pickle module implicitly. It is possible to construct malicious pickle data which will execute arbitrary code during unpickling (See https://github.com/pytorch/pytorch/blob/main/SECURITY.md#untrusted-models for more details). In a future release, the default value for `weights_only` will be flipped to `True`. This limits the functions that could be executed during unpickling. Arbitrary objects will no longer be allowed to be loaded via this mode unless they are explicitly allowlisted by the user via `torch.serialization.add_safe_globals`. We recommend you start setting `weights_only=True` for any use case where you don't have full control of the loaded file. Please open an issue on GitHub for any issues related to this experimental feature.\n",
      "  restore = torch.load(restore_from_stylefilter, map_location=lambda storage, loc: storage).module.state_dict()\n"
     ]
    },
    {
     "name": "stdout",
     "output_type": "stream",
     "text": [
      "Start Val\n"
     ]
    },
    {
     "name": "stderr",
     "output_type": "stream",
     "text": [
      "100%|██████████| 24/24 [00:04<00:00,  5.61it/s]\n"
     ]
    },
    {
     "name": "stdout",
     "output_type": "stream",
     "text": [
      "Test1: \n",
      "val_psnr: 24.10, val_ssim: 0.4499\n",
      "Seed:\t19\n",
      "cuda\n",
      "Start Val\n"
     ]
    },
    {
     "name": "stderr",
     "output_type": "stream",
     "text": [
      "100%|██████████| 24/24 [00:04<00:00,  5.76it/s]"
     ]
    },
    {
     "name": "stdout",
     "output_type": "stream",
     "text": [
      "Test2: \n",
      "val_psnr: 29.44, val_ssim: 0.7634\n"
     ]
    },
    {
     "name": "stderr",
     "output_type": "stream",
     "text": [
      "\n"
     ]
    }
   ],
   "source": [
    "from rundenoise import run_denoise_info\n",
    "\n",
    "#test 1 \n",
    "val_batch_size=1\n",
    "seed=19\n",
    "restore_from_stylefilter='/home/duongnhan/Chon/MWFormer/ckpt/lan4/finetune/finetune3/style_best_all'\n",
    "restore_from_backbone='/home/duongnhan/Chon/MWFormer/ckpt/lan4/finetune/finetune3/finetune4_3190000.pth'\n",
    "val_data_dir='/home/duongnhan/Chon/data/test/test_2/'\n",
    "val_filename='CT.txt'\n",
    "save_path1 = '/home/duongnhan/Chon/data/result_test/test_12/lan1/'\n",
    "save_path2 = '/home/duongnhan/Chon/data/result_test/test_12/lan2/'\n",
    "\n",
    "val_psnr, val_ssim = run_denoise_info(val_batch_size, seed, restore_from_stylefilter, restore_from_backbone, val_data_dir, val_filename, save_path1)\n",
    "print(\"Test1: \")\n",
    "print('val_psnr: {0:.2f}, val_ssim: {1:.4f}'.format(val_psnr, val_ssim))\n",
    "val_psnr2, val_ssim2 = run_denoise_info(val_batch_size, seed, restore_from_stylefilter, restore_from_backbone, save_path1, val_filename, save_path2)\n",
    "print(\"Test2: \")\n",
    "print('val_psnr: {0:.2f}, val_ssim: {1:.4f}'.format(val_psnr2, val_ssim2))"
   ]
  },
  {
   "cell_type": "code",
   "execution_count": 16,
   "id": "900d1467",
   "metadata": {},
   "outputs": [
    {
     "name": "stdout",
     "output_type": "stream",
     "text": [
      "Seed:\t19\n",
      "cuda\n"
     ]
    },
    {
     "name": "stderr",
     "output_type": "stream",
     "text": [
      "/home/duongnhan/Chon/Capstone_project/Backend/rundenoise.py:118: FutureWarning: You are using `torch.load` with `weights_only=False` (the current default value), which uses the default pickle module implicitly. It is possible to construct malicious pickle data which will execute arbitrary code during unpickling (See https://github.com/pytorch/pytorch/blob/main/SECURITY.md#untrusted-models for more details). In a future release, the default value for `weights_only` will be flipped to `True`. This limits the functions that could be executed during unpickling. Arbitrary objects will no longer be allowed to be loaded via this mode unless they are explicitly allowlisted by the user via `torch.serialization.add_safe_globals`. We recommend you start setting `weights_only=True` for any use case where you don't have full control of the loaded file. Please open an issue on GitHub for any issues related to this experimental feature.\n",
      "  weights_dict = torch.load(restore_from_backbone)\n",
      "/home/duongnhan/Chon/Capstone_project/Backend/rundenoise.py:125: FutureWarning: You are using `torch.load` with `weights_only=False` (the current default value), which uses the default pickle module implicitly. It is possible to construct malicious pickle data which will execute arbitrary code during unpickling (See https://github.com/pytorch/pytorch/blob/main/SECURITY.md#untrusted-models for more details). In a future release, the default value for `weights_only` will be flipped to `True`. This limits the functions that could be executed during unpickling. Arbitrary objects will no longer be allowed to be loaded via this mode unless they are explicitly allowlisted by the user via `torch.serialization.add_safe_globals`. We recommend you start setting `weights_only=True` for any use case where you don't have full control of the loaded file. Please open an issue on GitHub for any issues related to this experimental feature.\n",
      "  restore = torch.load(restore_from_stylefilter, map_location=lambda storage, loc: storage).module.state_dict()\n"
     ]
    },
    {
     "name": "stdout",
     "output_type": "stream",
     "text": [
      "Start Val\n"
     ]
    },
    {
     "name": "stderr",
     "output_type": "stream",
     "text": [
      "100%|██████████| 24/24 [00:04<00:00,  5.79it/s]"
     ]
    },
    {
     "name": "stdout",
     "output_type": "stream",
     "text": [
      "Test2: \n",
      "val_psnr: 29.51, val_ssim: 0.7760\n"
     ]
    },
    {
     "name": "stderr",
     "output_type": "stream",
     "text": [
      "\n"
     ]
    }
   ],
   "source": [
    "val_data_dir='/home/duongnhan/Chon/data/test/test_2/'\n",
    "val_filename='CT.txt'\n",
    "save_path1 = '/home/duongnhan/Chon/data/result_test/test_12/lan1/'\n",
    "save_path2 = '/home/duongnhan/Chon/data/result_test/test_12/lan2/'\n",
    "save_path3 = '/home/duongnhan/Chon/data/result_test/test_12/lan3/'\n",
    "\n",
    "val_psnr3, val_ssim3 = run_denoise_info(val_batch_size, seed, restore_from_stylefilter, restore_from_backbone, save_path2, val_filename, save_path3)\n",
    "print(\"Test2: \")\n",
    "print('val_psnr: {0:.2f}, val_ssim: {1:.4f}'.format(val_psnr3, val_ssim3))"
   ]
  },
  {
   "cell_type": "code",
   "execution_count": 15,
   "id": "d828856d",
   "metadata": {},
   "outputs": [
    {
     "name": "stdout",
     "output_type": "stream",
     "text": [
      "Seed:\t19\n",
      "cuda\n"
     ]
    },
    {
     "name": "stderr",
     "output_type": "stream",
     "text": [
      "/home/duongnhan/Chon/Capstone_project/Backend/rundenoise.py:118: FutureWarning: You are using `torch.load` with `weights_only=False` (the current default value), which uses the default pickle module implicitly. It is possible to construct malicious pickle data which will execute arbitrary code during unpickling (See https://github.com/pytorch/pytorch/blob/main/SECURITY.md#untrusted-models for more details). In a future release, the default value for `weights_only` will be flipped to `True`. This limits the functions that could be executed during unpickling. Arbitrary objects will no longer be allowed to be loaded via this mode unless they are explicitly allowlisted by the user via `torch.serialization.add_safe_globals`. We recommend you start setting `weights_only=True` for any use case where you don't have full control of the loaded file. Please open an issue on GitHub for any issues related to this experimental feature.\n",
      "  weights_dict = torch.load(restore_from_backbone)\n",
      "/home/duongnhan/Chon/Capstone_project/Backend/rundenoise.py:125: FutureWarning: You are using `torch.load` with `weights_only=False` (the current default value), which uses the default pickle module implicitly. It is possible to construct malicious pickle data which will execute arbitrary code during unpickling (See https://github.com/pytorch/pytorch/blob/main/SECURITY.md#untrusted-models for more details). In a future release, the default value for `weights_only` will be flipped to `True`. This limits the functions that could be executed during unpickling. Arbitrary objects will no longer be allowed to be loaded via this mode unless they are explicitly allowlisted by the user via `torch.serialization.add_safe_globals`. We recommend you start setting `weights_only=True` for any use case where you don't have full control of the loaded file. Please open an issue on GitHub for any issues related to this experimental feature.\n",
      "  restore = torch.load(restore_from_stylefilter, map_location=lambda storage, loc: storage).module.state_dict()\n"
     ]
    },
    {
     "name": "stdout",
     "output_type": "stream",
     "text": [
      "Start Val\n"
     ]
    },
    {
     "name": "stderr",
     "output_type": "stream",
     "text": [
      "100%|██████████| 16/16 [00:02<00:00,  5.57it/s]\n"
     ]
    },
    {
     "name": "stdout",
     "output_type": "stream",
     "text": [
      "Test1: \n",
      "val_psnr: 20.45, val_ssim: 0.2747\n",
      "Seed:\t19\n",
      "cuda\n",
      "Start Val\n"
     ]
    },
    {
     "name": "stderr",
     "output_type": "stream",
     "text": [
      "100%|██████████| 16/16 [00:02<00:00,  5.57it/s]\n"
     ]
    },
    {
     "name": "stdout",
     "output_type": "stream",
     "text": [
      "Test2: \n",
      "val_psnr: 23.07, val_ssim: 0.4122\n",
      "Seed:\t19\n",
      "cuda\n",
      "Start Val\n"
     ]
    },
    {
     "name": "stderr",
     "output_type": "stream",
     "text": [
      "100%|██████████| 16/16 [00:02<00:00,  5.71it/s]"
     ]
    },
    {
     "name": "stdout",
     "output_type": "stream",
     "text": [
      "Test2: \n",
      "val_psnr: 24.64, val_ssim: 0.5268\n"
     ]
    },
    {
     "name": "stderr",
     "output_type": "stream",
     "text": [
      "\n"
     ]
    }
   ],
   "source": [
    "val_data_dir='/home/duongnhan/Chon/data/test/test_3/'\n",
    "val_filename='CT.txt'\n",
    "save_path1 = '/home/duongnhan/Chon/data/result_test/test_123/lan1/'\n",
    "save_path2 = '/home/duongnhan/Chon/data/result_test/test_123/lan2/'\n",
    "save_path3 = '/home/duongnhan/Chon/data/result_test/test_123/lan3/'\n",
    "\n",
    "val_psnr, val_ssim = run_denoise_info(val_batch_size, seed, restore_from_stylefilter, restore_from_backbone, val_data_dir, val_filename, save_path1)\n",
    "print(\"Test1: \")\n",
    "print('val_psnr: {0:.2f}, val_ssim: {1:.4f}'.format(val_psnr, val_ssim))\n",
    "val_psnr2, val_ssim2 = run_denoise_info(val_batch_size, seed, restore_from_stylefilter, restore_from_backbone, save_path1, val_filename, save_path2)\n",
    "print(\"Test2: \")\n",
    "print('val_psnr: {0:.2f}, val_ssim: {1:.4f}'.format(val_psnr2, val_ssim2))\n",
    "val_psnr3, val_ssim3 = run_denoise_info(val_batch_size, seed, restore_from_stylefilter, restore_from_backbone, save_path2, val_filename, save_path3)\n",
    "print(\"Test2: \")\n",
    "print('val_psnr: {0:.2f}, val_ssim: {1:.4f}'.format(val_psnr3, val_ssim3))"
   ]
  },
  {
   "cell_type": "code",
   "execution_count": 17,
   "id": "cb1d73ac",
   "metadata": {},
   "outputs": [
    {
     "name": "stdout",
     "output_type": "stream",
     "text": [
      "Seed:\t19\n",
      "cuda\n"
     ]
    },
    {
     "name": "stderr",
     "output_type": "stream",
     "text": [
      "/home/duongnhan/Chon/Capstone_project/Backend/rundenoise.py:118: FutureWarning: You are using `torch.load` with `weights_only=False` (the current default value), which uses the default pickle module implicitly. It is possible to construct malicious pickle data which will execute arbitrary code during unpickling (See https://github.com/pytorch/pytorch/blob/main/SECURITY.md#untrusted-models for more details). In a future release, the default value for `weights_only` will be flipped to `True`. This limits the functions that could be executed during unpickling. Arbitrary objects will no longer be allowed to be loaded via this mode unless they are explicitly allowlisted by the user via `torch.serialization.add_safe_globals`. We recommend you start setting `weights_only=True` for any use case where you don't have full control of the loaded file. Please open an issue on GitHub for any issues related to this experimental feature.\n",
      "  weights_dict = torch.load(restore_from_backbone)\n",
      "/home/duongnhan/Chon/Capstone_project/Backend/rundenoise.py:125: FutureWarning: You are using `torch.load` with `weights_only=False` (the current default value), which uses the default pickle module implicitly. It is possible to construct malicious pickle data which will execute arbitrary code during unpickling (See https://github.com/pytorch/pytorch/blob/main/SECURITY.md#untrusted-models for more details). In a future release, the default value for `weights_only` will be flipped to `True`. This limits the functions that could be executed during unpickling. Arbitrary objects will no longer be allowed to be loaded via this mode unless they are explicitly allowlisted by the user via `torch.serialization.add_safe_globals`. We recommend you start setting `weights_only=True` for any use case where you don't have full control of the loaded file. Please open an issue on GitHub for any issues related to this experimental feature.\n",
      "  restore = torch.load(restore_from_stylefilter, map_location=lambda storage, loc: storage).module.state_dict()\n"
     ]
    },
    {
     "name": "stdout",
     "output_type": "stream",
     "text": [
      "Start Val\n"
     ]
    },
    {
     "name": "stderr",
     "output_type": "stream",
     "text": [
      "100%|██████████| 16/16 [00:03<00:00,  5.09it/s]"
     ]
    },
    {
     "name": "stdout",
     "output_type": "stream",
     "text": [
      "Test4: \n",
      "val_psnr: 24.77, val_ssim: 0.5462\n"
     ]
    },
    {
     "name": "stderr",
     "output_type": "stream",
     "text": [
      "\n"
     ]
    }
   ],
   "source": [
    "\n",
    "save_path3 = '/home/duongnhan/Chon/data/result_test/test_123/lan3/'\n",
    "save_path4 = '/home/duongnhan/Chon/data/result_test/test_123/lan4/'\n",
    "\n",
    "val_psnr4, val_ssim4 = run_denoise_info(val_batch_size, seed, restore_from_stylefilter, restore_from_backbone, save_path3, val_filename, save_path4 )\n",
    "print(\"Test4: \")\n",
    "print('val_psnr: {0:.2f}, val_ssim: {1:.4f}'.format(val_psnr4, val_ssim4))"
   ]
  },
  {
   "cell_type": "code",
   "execution_count": 18,
   "id": "771ac7a8",
   "metadata": {},
   "outputs": [
    {
     "name": "stdout",
     "output_type": "stream",
     "text": [
      "Seed:\t19\n",
      "cuda\n",
      "Start Val\n"
     ]
    },
    {
     "name": "stderr",
     "output_type": "stream",
     "text": [
      "100%|██████████| 16/16 [00:02<00:00,  5.62it/s]\n"
     ]
    },
    {
     "name": "stdout",
     "output_type": "stream",
     "text": [
      "Test5:\n",
      "val_psnr: 24.69, val_ssim: 0.5440\n",
      "Seed:\t19\n",
      "cuda\n",
      "Start Val\n"
     ]
    },
    {
     "name": "stderr",
     "output_type": "stream",
     "text": [
      "100%|██████████| 16/16 [00:02<00:00,  5.54it/s]"
     ]
    },
    {
     "name": "stdout",
     "output_type": "stream",
     "text": [
      "Test6:\n",
      "val_psnr: 24.49, val_ssim: 0.5362\n"
     ]
    },
    {
     "name": "stderr",
     "output_type": "stream",
     "text": [
      "\n"
     ]
    }
   ],
   "source": [
    "save_path3 = '/home/duongnhan/Chon/data/result_test/test_123/lan3/'\n",
    "save_path4 = '/home/duongnhan/Chon/data/result_test/test_123/lan4/'\n",
    "save_path5 = '/home/duongnhan/Chon/data/result_test/test_123/lan5/'\n",
    "save_path6 = '/home/duongnhan/Chon/data/result_test/test_123/lan6/'\n",
    "\n",
    "# # Test 4\n",
    "# val_psnr4, val_ssim4 = run_denoise_info(\n",
    "#     val_batch_size, seed, restore_from_stylefilter, restore_from_backbone,\n",
    "#     save_path3, val_filename, save_path4\n",
    "# )\n",
    "# print(\"Test4:\")\n",
    "# print('val_psnr: {0:.2f}, val_ssim: {1:.4f}'.format(val_psnr4, val_ssim4))\n",
    "\n",
    "# Test 5\n",
    "val_psnr5, val_ssim5 = run_denoise_info(\n",
    "    val_batch_size, seed, restore_from_stylefilter, restore_from_backbone,\n",
    "    save_path4, val_filename, save_path5\n",
    ")\n",
    "print(\"Test5:\")\n",
    "print('val_psnr: {0:.2f}, val_ssim: {1:.4f}'.format(val_psnr5, val_ssim5))\n",
    "\n",
    "# Test 6\n",
    "val_psnr6, val_ssim6 = run_denoise_info(\n",
    "    val_batch_size, seed, restore_from_stylefilter, restore_from_backbone,\n",
    "    save_path5, val_filename, save_path6\n",
    ")\n",
    "print(\"Test6:\")\n",
    "print('val_psnr: {0:.2f}, val_ssim: {1:.4f}'.format(val_psnr6, val_ssim6))\n"
   ]
  },
  {
   "cell_type": "code",
   "execution_count": 2,
   "id": "f09a5b9c",
   "metadata": {},
   "outputs": [],
   "source": [
    "import os\n",
    "import cv2\n",
    "import numpy as np\n",
    "from skimage.metrics import peak_signal_noise_ratio as psnr\n",
    "from skimage.metrics import structural_similarity as ssim\n",
    "\n",
    "def calculate_metrics(root_dir):\n",
    "    input_dir = os.path.join(root_dir, 'input')\n",
    "    gt_dir = os.path.join(root_dir, 'gt')\n",
    "\n",
    "    input_files = sorted(os.listdir(input_dir))\n",
    "    gt_files = sorted(os.listdir(gt_dir))\n",
    "\n",
    "    total_psnr = 0\n",
    "    total_ssim = 0\n",
    "    count = 0\n",
    "\n",
    "    for file_name in input_files:\n",
    "        input_path = os.path.join(input_dir, file_name)\n",
    "        gt_path = os.path.join(gt_dir, file_name)\n",
    "\n",
    "        if not os.path.exists(gt_path):\n",
    "            print(f\"Bỏ qua {file_name}: không có file ground truth tương ứng.\")\n",
    "            continue\n",
    "\n",
    "        # Đọc ảnh (dùng cv2, mặc định đọc ảnh RGB thành BGR)\n",
    "        input_img = cv2.imread(input_path)\n",
    "        gt_img = cv2.imread(gt_path)\n",
    "\n",
    "        # Đảm bảo cùng kích thước và chuyển sang RGB\n",
    "        if input_img.shape != gt_img.shape:\n",
    "            print(f\"Bỏ qua {file_name}: kích thước ảnh không khớp.\")\n",
    "            continue\n",
    "\n",
    "        input_img = cv2.cvtColor(input_img, cv2.COLOR_BGR2RGB)\n",
    "        gt_img = cv2.cvtColor(gt_img, cv2.COLOR_BGR2RGB)\n",
    "\n",
    "        # Tính PSNR và SSIM\n",
    "        cur_psnr = psnr(gt_img, input_img, data_range=255)\n",
    "        cur_ssim = ssim(gt_img, input_img, channel_axis=-1, data_range=255)\n",
    "\n",
    "\n",
    "        total_psnr += cur_psnr\n",
    "        total_ssim += cur_ssim\n",
    "        count += 1\n",
    "\n",
    "    if count == 0:\n",
    "        print(\"Không có ảnh hợp lệ để so sánh.\")\n",
    "        return\n",
    "\n",
    "    avg_psnr = total_psnr / count\n",
    "    avg_ssim = total_ssim / count\n",
    "\n",
    "    print(f\"PSNR trung bình: {avg_psnr:.2f}\")\n",
    "    print(f\"SSIM trung bình: {avg_ssim:.4f}\")\n",
    "\n",
    "\n"
   ]
  },
  {
   "cell_type": "code",
   "execution_count": 8,
   "id": "756efdaa",
   "metadata": {},
   "outputs": [
    {
     "name": "stdout",
     "output_type": "stream",
     "text": [
      "PSNR trung bình: 27.63\n",
      "SSIM trung bình: 0.8681\n"
     ]
    }
   ],
   "source": [
    "calculate_metrics('/home/duongnhan/Chon/data/test/LDCT/L506')"
   ]
  },
  {
   "cell_type": "code",
   "execution_count": 14,
   "id": "9347b856",
   "metadata": {},
   "outputs": [
    {
     "name": "stdout",
     "output_type": "stream",
     "text": [
      "PSNR trung bình: 31.64\n",
      "SSIM trung bình: 0.7498\n"
     ]
    }
   ],
   "source": [
    "calculate_metrics('/home/duongnhan/Chon/data/test/LDCT/L291/')"
   ]
  },
  {
   "cell_type": "code",
   "execution_count": 12,
   "id": "cf354a54",
   "metadata": {},
   "outputs": [
    {
     "name": "stdout",
     "output_type": "stream",
     "text": [
      "Hai nhieu\n",
      "lan1:\n",
      "PSNR trung bình: 22.74\n",
      "SSIM trung bình: 0.3301\n",
      "lan2:\n",
      "PSNR trung bình: 22.74\n",
      "SSIM trung bình: 0.3301\n",
      "Ba nhieu\n",
      "lan1:\n",
      "PSNR trung bình: 19.10\n",
      "SSIM trung bình: 0.1934\n",
      "lan2:\n",
      "PSNR trung bình: 19.10\n",
      "SSIM trung bình: 0.1934\n",
      "lan3:\n",
      "PSNR trung bình: 19.10\n",
      "SSIM trung bình: 0.1934\n"
     ]
    }
   ],
   "source": [
    "print('Hai nhieu\\nlan1:')\n",
    "calculate_metrics('/home/duongnhan/Chon/data/result_test/test_12/lan1/')\n",
    "print('lan2:')\n",
    "calculate_metrics('/home/duongnhan/Chon/data/result_test/test_12/lan2/')\n",
    "\n",
    "print('Ba nhieu\\nlan1:')\n",
    "calculate_metrics('/home/duongnhan/Chon/data/result_test/test_123_chuan/lan1/')\n",
    "print('lan2:')\n",
    "calculate_metrics('/home/duongnhan/Chon/data/result_test/test_123_chuan/lan2/')\n",
    "print('lan3:')\n",
    "calculate_metrics('/home/duongnhan/Chon/data/result_test/test_123_chuan/lan3/')\n"
   ]
  },
  {
   "cell_type": "code",
   "execution_count": 16,
   "id": "77d1e1ee",
   "metadata": {},
   "outputs": [
    {
     "name": "stdout",
     "output_type": "stream",
     "text": [
      "cac chi so tai Std = 15\n"
     ]
    },
    {
     "name": "stdout",
     "output_type": "stream",
     "text": [
      "PSNR trung bình: 25.49\n",
      "SSIM trung bình: 0.4532\n",
      "cac chi so tai Std = 20\n",
      "PSNR trung bình: 23.12\n",
      "SSIM trung bình: 0.3492\n",
      "cac chi so tai Std = 25\n",
      "PSNR trung bình: 21.26\n",
      "SSIM trung bình: 0.2784\n",
      "cac chi so tai Std = 30\n",
      "PSNR trung bình: 19.73\n",
      "SSIM trung bình: 0.2283\n",
      "cac chi so tai Std = 35\n",
      "PSNR trung bình: 18.44\n",
      "SSIM trung bình: 0.1913\n",
      "cac chi so tai Std = 40\n",
      "PSNR trung bình: 17.32\n",
      "SSIM trung bình: 0.1632\n"
     ]
    }
   ],
   "source": [
    "\n",
    "data_dir15 = '/home/duongnhan/Chon/data/test_200/15/'\n",
    "data_dir20 = '/home/duongnhan/Chon/data/test_200/20/'\n",
    "data_dir25 = '/home/duongnhan/Chon/data/test_200/25/'\n",
    "data_dir30 = '/home/duongnhan/Chon/data/test_200/30/'\n",
    "data_dir35 = '/home/duongnhan/Chon/data/test_200/35/'\n",
    "data_dir40 = '/home/duongnhan/Chon/data/test_200/40/'\n",
    "\n",
    "test_levels = [15, 20, 25, 30, 35, 40]\n",
    "data_dirs = {\n",
    "    15: data_dir15,\n",
    "    20: data_dir20,\n",
    "    25: data_dir25,\n",
    "    30: data_dir30,\n",
    "    35: data_dir35,\n",
    "    40: data_dir40\n",
    "    }\n",
    "for level in test_levels:\n",
    "    root_dir = data_dirs[level]\n",
    "    print(f\"cac chi so tai Std = {level}\")\n",
    "    calculate_metrics(root_dir)"
   ]
  },
  {
   "cell_type": "code",
   "execution_count": null,
   "id": "10e4e540",
   "metadata": {},
   "outputs": [],
   "source": [
    "val_ssim_gt = [0.4136, 0.3281, 0.2712, 0.2308, 0.2007, 0.1774]\n",
    "# val_psnr1 = [40.55, 39.77, 38.94, 38.12, 37.24,36.23]\n",
    "# val_psnr2 = [34.78, 36.35, 37.72, 39.06, 39.54, 37.36]\n",
    "# val_psnr3 = [40.38, 39.61, 38.79, 37.97, 37.09, 36.06]\n",
    "\n",
    "# val_ssim_3 = [0.9693, 0.9653, 0.9609, 0.9559, 0.9493, 0.9383]\n",
    "val_ssim_gt = [0.4136, 0.3281, 0.2712, 0.2308, 0.2007, 0.1774]\n",
    "# val_ssim1 = [0.9701, 0.9663, 0.9619, 0.9572, 0.9511, 0.9416]\n",
    "# val_ssim2 = [0.9183, 0.9348, 0.9513, 0.9641, 0.9664, 0.9344]\n",
    "\n",
    "\n",
    "val_psnr25 = [31.91, 32.97, 34.04, 35.10, 35.33, 33.63]\n",
    "val_ssim25 = [0.8161, 0.8321, 0.8520, 0.8679, 0.8655, 0.8268]\n",
    "\n",
    "\n",
    "val_psnr_range = [36.29, 35.79, 35.34, 34.85, 34.27, 33.48]\n",
    "val_ssim_range = [0.8862, 0.8788, 0.8728, 0.8662, 0.8577, 0.8426]\n",
    "\n",
    "val_psnr_chuan = [38.43, 37.84, 37.19, 36.55, 35.82, 34.87]\n",
    "val_ssim_chuan = [0.9297, 0.9235, 0.9169, 0.9102, 0.9019, 0.8877]"
   ]
  },
  {
   "cell_type": "code",
   "execution_count": null,
   "id": "89a6f870",
   "metadata": {},
   "outputs": [
    {
     "data": {
      "image/png": "[encoded data removed]",
      "text/plain": [
       "<Figure size 1000x600 with 1 Axes>"
      ]
     },
     "metadata": {},
     "output_type": "display_data"
    }
   ],
   "source": [
    "import matplotlib.pyplot as plt\n",
    "\n",
    "# Dữ liệu\n",
    "std_levels = [15, 20, 25, 30, 35, 40]\n",
    "val_psnr_gt = [26.32, 23.89, 22.00, 20.46, 19.15, 18.02]\n",
    "\n",
    "val_psnr25 = [31.91, 32.97, 34.04, 35.10, 35.33, 33.63]\n",
    "val_psnr_range = [36.29, 35.79, 35.34, 34.85, 34.27, 33.48]\n",
    "\n",
    "# Vẽ biểu đồ\n",
    "plt.figure(figsize=(10, 6))\n",
    "plt.plot(std_levels, val_psnr_gt, marker='o', label='GT vs Noisy (Baseline)')\n",
    "plt.plot(std_levels, val_psnr_range, marker='o', label='std = [20,30]')\n",
    "plt.plot(std_levels, val_psnr25, marker='o', label='std = 25')\n",
    "\n",
    "plt.title('So sánh PSNR theo mức độ nhiễu (Std)')\n",
    "plt.xlabel('Std (Mức độ nhiễu)')\n",
    "plt.ylabel('PSNR')\n",
    "plt.grid(True)\n",
    "plt.legend()\n",
    "plt.tight_layout()\n",
    "plt.show()"
   ]
  },
  {
   "cell_type": "code",
   "execution_count": 5,
   "id": "0625bc0c",
   "metadata": {},
   "outputs": [
    {
     "data": {
      "image/png": "[encoded data removed]",
      "text/plain": [
       "<Figure size 1000x600 with 1 Axes>"
      ]
     },
     "metadata": {},
     "output_type": "display_data"
    }
   ],
   "source": [
    "import matplotlib.pyplot as plt\n",
    "import numpy as np\n",
    "\n",
    "# Dữ liệu\n",
    "std_levels = [15, 20, 25, 30, 35, 40]\n",
    "val_psnr_gt = [26.32, 23.89, 22.00, 20.46, 19.15, 18.02]\n",
    "val_psnr1 = [40.55, 39.77, 38.94, 38.12, 37.24, 36.23]\n",
    "\n",
    "val_psnr25 = [31.91, 32.97, 34.04, 35.10, 35.33, 33.63]\n",
    "val_psnr_range = [36.29, 35.79, 35.34, 34.85, 34.27, 33.48]\n",
    "\n",
    "# Tính trung bình\n",
    "avg_gt = np.mean(val_psnr_gt)\n",
    "avg_psnr25 = np.mean(val_psnr25)\n",
    "avg_psnrrange = np.mean(val_psnr_range)\n",
    "\n",
    "# Vẽ biểu đồ\n",
    "plt.figure(figsize=(10, 6))\n",
    "plt.plot(std_levels, val_psnr_gt, marker='o', label='Noisy')\n",
    "plt.plot(std_levels, val_psnr_range, marker='o', label='Std of Train = [20,30]')\n",
    "plt.plot(std_levels, val_psnr25, marker='o', label='Std of Train= 35')\n",
    "\n",
    "# Thêm đường kẻ ngang nét đứt cho trung bình\n",
    "plt.axhline(avg_gt, color='blue', linestyle='--', linewidth=1, label=f'Avg noisy: {avg_gt:.2f}')\n",
    "plt.axhline(avg_psnrrange, color='orange', linestyle='--', linewidth=1, label=f'Avg std=[20,30]: {avg_psnrrange:.2f}')\n",
    "plt.axhline(avg_psnr25, color='green', linestyle='--', linewidth=1, label=f'Avg std=35: {avg_psnr25:.2f}')\n",
    "\n",
    "plt.title('PSNR vs. Std for Training and Testing Sets')\n",
    "plt.xlabel('Std of Test')\n",
    "plt.ylabel('PSNR (dB)')\n",
    "plt.grid(True)\n",
    "plt.legend()\n",
    "plt.tight_layout()\n",
    "plt.show()\n"
   ]
  },
  {
   "cell_type": "code",
   "execution_count": null,
   "id": "66a71385",
   "metadata": {},
   "outputs": [],
   "source": []
  },
  {
   "cell_type": "code",
   "execution_count": 4,
   "id": "444a1b71",
   "metadata": {},
   "outputs": [
    {
     "data": {
      "image/png": "[encoded data removed]",
      "text/plain": [
       "<Figure size 1000x600 with 1 Axes>"
      ]
     },
     "metadata": {},
     "output_type": "display_data"
    }
   ],
   "source": [
    "import matplotlib.pyplot as plt\n",
    "import numpy as np\n",
    "\n",
    "# Dữ liệu\n",
    "std_levels = [15, 20, 25, 30, 35, 40]\n",
    "val_ssim_gt = [0.4136, 0.3281, 0.2712, 0.2308, 0.2007, 0.1774]\n",
    "val_ssim25 = [0.8161, 0.8321, 0.8520, 0.8679, 0.8655, 0.8268]\n",
    "val_ssim_range = [0.8862, 0.8788, 0.8728, 0.8662, 0.8577, 0.8426]\n",
    "\n",
    "avg_gt = np.mean(val_ssim_gt)\n",
    "avg_ssim25 = np.mean(val_ssim25)\n",
    "avg_ssim_range = np.mean(val_ssim_range)\n",
    "\n",
    "# Vẽ biểu đồ\n",
    "plt.figure(figsize=(10, 6))\n",
    "plt.plot(std_levels, val_ssim_gt, marker='o', label='Noisy')\n",
    "plt.plot(std_levels, val_ssim_range, marker='o', label='Std of Train = [20,30]')\n",
    "plt.plot(std_levels, val_ssim25, marker='o', label='Std of Train= 35')\n",
    "\n",
    "\n",
    "plt.axhline(avg_gt, color='blue', linestyle='--', linewidth=1, label=f'Avg noisy: {avg_gt:.2f}')\n",
    "plt.axhline(avg_ssim_range,color='orange', linestyle='--', linewidth=1, label=f'Avg std=35: {avg_ssim25:.2f}')\n",
    "plt.axhline(avg_ssim25,color='green', linestyle='--', linewidth=1, label=f'Avg std=[20,30]: {avg_ssim_range:.2f}') \n",
    "\n",
    "plt.title('SSIM vs. Std for Training and Testing Sets')\n",
    "plt.xlabel('Std of Test')\n",
    "plt.ylabel('SSIM')\n",
    "plt.grid(True)\n",
    "plt.legend()\n",
    "plt.tight_layout()\n",
    "plt.show()"
   ]
  },
  {
   "cell_type": "code",
   "execution_count": 7,
   "id": "aef8ee58",
   "metadata": {},
   "outputs": [],
   "source": [
    "import os\n",
    "import numpy as np\n",
    "import cv2  # Hoặc dùng PIL nếu bạn thích\n",
    "from math import sqrt\n",
    "\n",
    "def calculate_rmse(img1, img2):\n",
    "    return np.sqrt(np.mean((img1.astype(np.float32) - img2.astype(np.float32)) ** 2))\n",
    "\n",
    "def compute_rmse_for_folders(original_folder, denoised_folder):\n",
    "    rmse_list = []\n",
    "\n",
    "    filenames = sorted(os.listdir(original_folder))\n",
    "    for fname in filenames:\n",
    "        orig_path = os.path.join(original_folder, fname)\n",
    "        denoised_path = os.path.join(denoised_folder, fname)\n",
    "\n",
    "        if not os.path.exists(denoised_path):\n",
    "            print(f\"Missing file: {denoised_path}\")\n",
    "            continue\n",
    "\n",
    "        img1 = cv2.imread(orig_path, cv2.IMREAD_GRAYSCALE)\n",
    "        img2 = cv2.imread(denoised_path, cv2.IMREAD_GRAYSCALE)\n",
    "\n",
    "        if img1.shape != img2.shape:\n",
    "            print(f\"Shape mismatch for file: {fname}\")\n",
    "            continue\n",
    "\n",
    "        rmse = calculate_rmse(img1, img2)\n",
    "        rmse_list.append(rmse)\n",
    "\n",
    "    avg_rmse = np.mean(rmse_list)\n",
    "    print(f\"Average RMSE: {avg_rmse:.4f}\")\n",
    "    return avg_rmse\n"
   ]
  },
  {
   "cell_type": "code",
   "execution_count": null,
   "id": "53e0b8c2",
   "metadata": {},
   "outputs": [],
   "source": [
    "compute_rmse_for_folders(\"original_images\", \"denoised_images\")\n"
   ]
  }
 ],
 "metadata": {
  "kernelspec": {
   "display_name": "capstone",
   "language": "python",
   "name": "python3"
  },
  "language_info": {
   "codemirror_mode": {
    "name": "ipython",
    "version": 3
   },
   "file_extension": ".py",
   "mimetype": "text/x-python",
   "name": "python",
   "nbconvert_exporter": "python",
   "pygments_lexer": "ipython3",
   "version": "3.10.12"
  }
 },
 "nbformat": 4,
 "nbformat_minor": 5
}
